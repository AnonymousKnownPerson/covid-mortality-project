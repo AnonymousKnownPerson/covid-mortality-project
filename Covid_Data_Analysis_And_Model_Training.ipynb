{
  "cells": [
    {
      "cell_type": "code",
      "execution_count": 290,
      "metadata": {
        "id": "Zy67jHgUHUD9"
      },
      "outputs": [],
      "source": [
        "import numpy as np\n",
        "import matplotlib.pyplot as plt\n",
        "import pandas as pd\n",
        "import xgboost as xgb\n",
        "import plotly.express as px\n",
        "import seaborn as sns # używać więcej\n",
        "from sklearn.model_selection import train_test_split\n",
        "from sklearn.naive_bayes import GaussianNB, BernoulliNB\n",
        "from sklearn.linear_model import LogisticRegression\n",
        "from sklearn.neighbors import KNeighborsClassifier\n",
        "from sklearn.ensemble import RandomForestClassifier\n",
        "from sklearn import tree\n",
        "from pprint import pprint\n",
        "#from sklearn.svm import SVC\n",
        "from IPython.display import Markdown, display\n",
        "from sklearn.svm import LinearSVC\n",
        "from sklearn.preprocessing import StandardScaler\n",
        "from sklearn.metrics import confusion_matrix, classification_report\n",
        "from sklearnex import patch_sklearn \n",
        "import warnings\n",
        "from sklearn.exceptions import ConvergenceWarning\n",
        "warnings.filterwarnings(\"ignore\", category=DeprecationWarning)\n",
        "warnings.filterwarnings(\"ignore\", category=ConvergenceWarning)\n",
        "warnings.filterwarnings(\"ignore\", category=FutureWarning)"
      ]
    },
    {
      "cell_type": "code",
      "execution_count": 291,
      "metadata": {},
      "outputs": [
        {
          "name": "stderr",
          "output_type": "stream",
          "text": [
            "Intel(R) Extension for Scikit-learn* enabled (https://github.com/intel/scikit-learn-intelex)\n"
          ]
        }
      ],
      "source": [
        "patch_sklearn()"
      ]
    },
    {
      "cell_type": "markdown",
      "metadata": {
        "id": "F7Cr83RLErHc"
      },
      "source": [
        "###Load CSV"
      ]
    },
    {
      "cell_type": "code",
      "execution_count": 292,
      "metadata": {
        "id": "pZB4XYtfE39v"
      },
      "outputs": [],
      "source": [
        "# Dataset from https://www.kaggle.com/datasets/meirnizri/covid19-dataset\n",
        "df = pd.read_csv('https://raw.githubusercontent.com/AnonymousKnownPerson/covid-project-data/master/Covid%20Data.csv')"
      ]
    },
    {
      "cell_type": "markdown",
      "metadata": {
        "id": "7zuk3baf15h-"
      },
      "source": [
        "#Wprowadzenie"
      ]
    },
    {
      "cell_type": "markdown",
      "metadata": {
        "id": "S36_uFyuGd7P"
      },
      "source": [
        "## Zestaw danych został dostarczony przez rząd meksykański. Zestaw ten zawiera ogromną liczbę zanonimizowanych informacji dotyczących pacjentów. Surowy zestaw danych składa się z 21 unikalnych cech i 1 048 575 unikalnych pacjentów. W przypadku cech logicznych, 1 oznacza \"tak\", a 2 oznacza \"nie\". Wartości 97, 98 i 99 oznaczają brak danych."
      ]
    },
    {
      "cell_type": "markdown",
      "metadata": {
        "id": "A8kTTUF8Gk0F"
      },
      "source": [
        "## Dane\n",
        "\n",
        "**sex**: 1 dla kobiet i 2 dla mężczyzn.\n",
        "\n",
        "**age**: wskazuje wiek pacjenta.\n",
        "\n",
        "**classification**: wyniki testu na COVID-19. Wartości 1-3 oznaczają, że pacjent został zdiagnozowany z COVID-19 w różnym stopniu. 4 lub więcej oznacza, że pacjent nie jest nosicielem COVID-19 lub test jest niejednoznaczny.\n",
        "\n",
        "**patient type**: wskazuje rodzaj opieki, jaką pacjent otrzymał w jednostce. 1 oznacza powrót do domu, a 2 hospitalizację.\n",
        "\n",
        "**pneumonia**: wskazuje, czy pacjent ma zapalenie pęcherzyków płucnych, czy nie.\n",
        "\n",
        "**pregnancy**: wskazuje, czy pacjent jest w ciąży, czy nie.\n",
        "\n",
        "**diabetes**: wskazuje, czy pacjent ma cukrzycę, czy nie.\n",
        "\n",
        "**copd**: wskazuje, czy pacjent ma przewlekłą obturacyjną chorobę płuc, czy nie.\n",
        "\n",
        "**asthma**: wskazuje, czy pacjent ma astmę, czy nie.\n",
        "\n",
        "**inmsupr**:wskazuje,  czy pacjent jest immunosupresyjny, czy nie.\n",
        "\n",
        "**hypertension**: wskazuje, czy pacjent ma nadciśnienie, czy nie.\n",
        "\n",
        "**cardiovascular**: wskazuje, czy pacjent ma chorobę serca lub naczyń krwionośnych.\n",
        "\n",
        "**renal chronic**: wskazuje, czy pacjent ma przewlekłą chorobę nerek, czy nie.\n",
        "\n",
        "**other disease**: wskazuje, czy pacjent ma inne choroby, czy nie.\n",
        "\n",
        "**obesity**: wskazuje, czy pacjent jest otyły, czy nie.\n",
        "\n",
        "**tobacco**: wskazuje, czy pacjent jest palaczem tytoniu.\n",
        "\n",
        "**usmr**: wskazuje, czy pacjent był leczony w jednostkach medycznych pierwszego, drugiego lub trzeciego poziomu.\n",
        "\n",
        "**medical unit**: rodzaj instytucji Systemu Zdrowia Narodowego, która świadczyła opiekę.\n",
        "\n",
        "**intubed**: wskazuje, czy pacjent był podłączony do respiratora.\n",
        "\n",
        "**icu**: wskazuje, czy pacjent był przyjęty do oddziału intensywnej opieki.\n",
        "\n",
        "**date died**: jeśli pacjent zmarł, podano datę śmierci; w przeciwnym razie podano\n",
        "9999-99-99.\n"
      ]
    },
    {
      "cell_type": "markdown",
      "metadata": {
        "id": "N1c2zZNo3uxs"
      },
      "source": [
        "##Prezentacja Danych"
      ]
    },
    {
      "cell_type": "code",
      "execution_count": 293,
      "metadata": {
        "colab": {
          "base_uri": "https://localhost:8080/",
          "height": 412
        },
        "id": "6RtivB_OoFMd",
        "outputId": "90bc71e0-8c93-4445-8b63-78d6f8207758"
      },
      "outputs": [
        {
          "data": {
            "text/html": [
              "<div>\n",
              "<style scoped>\n",
              "    .dataframe tbody tr th:only-of-type {\n",
              "        vertical-align: middle;\n",
              "    }\n",
              "\n",
              "    .dataframe tbody tr th {\n",
              "        vertical-align: top;\n",
              "    }\n",
              "\n",
              "    .dataframe thead th {\n",
              "        text-align: right;\n",
              "    }\n",
              "</style>\n",
              "<table border=\"1\" class=\"dataframe\">\n",
              "  <thead>\n",
              "    <tr style=\"text-align: right;\">\n",
              "      <th></th>\n",
              "      <th>USMER</th>\n",
              "      <th>MEDICAL_UNIT</th>\n",
              "      <th>SEX</th>\n",
              "      <th>PATIENT_TYPE</th>\n",
              "      <th>DATE_DIED</th>\n",
              "      <th>INTUBED</th>\n",
              "      <th>PNEUMONIA</th>\n",
              "      <th>AGE</th>\n",
              "      <th>PREGNANT</th>\n",
              "      <th>DIABETES</th>\n",
              "      <th>...</th>\n",
              "      <th>ASTHMA</th>\n",
              "      <th>INMSUPR</th>\n",
              "      <th>HIPERTENSION</th>\n",
              "      <th>OTHER_DISEASE</th>\n",
              "      <th>CARDIOVASCULAR</th>\n",
              "      <th>OBESITY</th>\n",
              "      <th>RENAL_CHRONIC</th>\n",
              "      <th>TOBACCO</th>\n",
              "      <th>CLASIFFICATION_FINAL</th>\n",
              "      <th>ICU</th>\n",
              "    </tr>\n",
              "  </thead>\n",
              "  <tbody>\n",
              "    <tr>\n",
              "      <th>0</th>\n",
              "      <td>2</td>\n",
              "      <td>1</td>\n",
              "      <td>1</td>\n",
              "      <td>1</td>\n",
              "      <td>03/05/2020</td>\n",
              "      <td>97</td>\n",
              "      <td>1</td>\n",
              "      <td>65</td>\n",
              "      <td>2</td>\n",
              "      <td>2</td>\n",
              "      <td>...</td>\n",
              "      <td>2</td>\n",
              "      <td>2</td>\n",
              "      <td>1</td>\n",
              "      <td>2</td>\n",
              "      <td>2</td>\n",
              "      <td>2</td>\n",
              "      <td>2</td>\n",
              "      <td>2</td>\n",
              "      <td>3</td>\n",
              "      <td>97</td>\n",
              "    </tr>\n",
              "    <tr>\n",
              "      <th>1</th>\n",
              "      <td>2</td>\n",
              "      <td>1</td>\n",
              "      <td>2</td>\n",
              "      <td>1</td>\n",
              "      <td>03/06/2020</td>\n",
              "      <td>97</td>\n",
              "      <td>1</td>\n",
              "      <td>72</td>\n",
              "      <td>97</td>\n",
              "      <td>2</td>\n",
              "      <td>...</td>\n",
              "      <td>2</td>\n",
              "      <td>2</td>\n",
              "      <td>1</td>\n",
              "      <td>2</td>\n",
              "      <td>2</td>\n",
              "      <td>1</td>\n",
              "      <td>1</td>\n",
              "      <td>2</td>\n",
              "      <td>5</td>\n",
              "      <td>97</td>\n",
              "    </tr>\n",
              "    <tr>\n",
              "      <th>2</th>\n",
              "      <td>2</td>\n",
              "      <td>1</td>\n",
              "      <td>2</td>\n",
              "      <td>2</td>\n",
              "      <td>09/06/2020</td>\n",
              "      <td>1</td>\n",
              "      <td>2</td>\n",
              "      <td>55</td>\n",
              "      <td>97</td>\n",
              "      <td>1</td>\n",
              "      <td>...</td>\n",
              "      <td>2</td>\n",
              "      <td>2</td>\n",
              "      <td>2</td>\n",
              "      <td>2</td>\n",
              "      <td>2</td>\n",
              "      <td>2</td>\n",
              "      <td>2</td>\n",
              "      <td>2</td>\n",
              "      <td>3</td>\n",
              "      <td>2</td>\n",
              "    </tr>\n",
              "    <tr>\n",
              "      <th>3</th>\n",
              "      <td>2</td>\n",
              "      <td>1</td>\n",
              "      <td>1</td>\n",
              "      <td>1</td>\n",
              "      <td>12/06/2020</td>\n",
              "      <td>97</td>\n",
              "      <td>2</td>\n",
              "      <td>53</td>\n",
              "      <td>2</td>\n",
              "      <td>2</td>\n",
              "      <td>...</td>\n",
              "      <td>2</td>\n",
              "      <td>2</td>\n",
              "      <td>2</td>\n",
              "      <td>2</td>\n",
              "      <td>2</td>\n",
              "      <td>2</td>\n",
              "      <td>2</td>\n",
              "      <td>2</td>\n",
              "      <td>7</td>\n",
              "      <td>97</td>\n",
              "    </tr>\n",
              "    <tr>\n",
              "      <th>4</th>\n",
              "      <td>2</td>\n",
              "      <td>1</td>\n",
              "      <td>2</td>\n",
              "      <td>1</td>\n",
              "      <td>21/06/2020</td>\n",
              "      <td>97</td>\n",
              "      <td>2</td>\n",
              "      <td>68</td>\n",
              "      <td>97</td>\n",
              "      <td>1</td>\n",
              "      <td>...</td>\n",
              "      <td>2</td>\n",
              "      <td>2</td>\n",
              "      <td>1</td>\n",
              "      <td>2</td>\n",
              "      <td>2</td>\n",
              "      <td>2</td>\n",
              "      <td>2</td>\n",
              "      <td>2</td>\n",
              "      <td>3</td>\n",
              "      <td>97</td>\n",
              "    </tr>\n",
              "    <tr>\n",
              "      <th>5</th>\n",
              "      <td>2</td>\n",
              "      <td>1</td>\n",
              "      <td>1</td>\n",
              "      <td>2</td>\n",
              "      <td>9999-99-99</td>\n",
              "      <td>2</td>\n",
              "      <td>1</td>\n",
              "      <td>40</td>\n",
              "      <td>2</td>\n",
              "      <td>2</td>\n",
              "      <td>...</td>\n",
              "      <td>2</td>\n",
              "      <td>2</td>\n",
              "      <td>2</td>\n",
              "      <td>2</td>\n",
              "      <td>2</td>\n",
              "      <td>2</td>\n",
              "      <td>2</td>\n",
              "      <td>2</td>\n",
              "      <td>3</td>\n",
              "      <td>2</td>\n",
              "    </tr>\n",
              "    <tr>\n",
              "      <th>6</th>\n",
              "      <td>2</td>\n",
              "      <td>1</td>\n",
              "      <td>1</td>\n",
              "      <td>1</td>\n",
              "      <td>9999-99-99</td>\n",
              "      <td>97</td>\n",
              "      <td>2</td>\n",
              "      <td>64</td>\n",
              "      <td>2</td>\n",
              "      <td>2</td>\n",
              "      <td>...</td>\n",
              "      <td>2</td>\n",
              "      <td>2</td>\n",
              "      <td>2</td>\n",
              "      <td>2</td>\n",
              "      <td>2</td>\n",
              "      <td>2</td>\n",
              "      <td>2</td>\n",
              "      <td>2</td>\n",
              "      <td>3</td>\n",
              "      <td>97</td>\n",
              "    </tr>\n",
              "    <tr>\n",
              "      <th>7</th>\n",
              "      <td>2</td>\n",
              "      <td>1</td>\n",
              "      <td>1</td>\n",
              "      <td>1</td>\n",
              "      <td>9999-99-99</td>\n",
              "      <td>97</td>\n",
              "      <td>1</td>\n",
              "      <td>64</td>\n",
              "      <td>2</td>\n",
              "      <td>1</td>\n",
              "      <td>...</td>\n",
              "      <td>2</td>\n",
              "      <td>1</td>\n",
              "      <td>1</td>\n",
              "      <td>2</td>\n",
              "      <td>2</td>\n",
              "      <td>2</td>\n",
              "      <td>1</td>\n",
              "      <td>2</td>\n",
              "      <td>3</td>\n",
              "      <td>97</td>\n",
              "    </tr>\n",
              "    <tr>\n",
              "      <th>8</th>\n",
              "      <td>2</td>\n",
              "      <td>1</td>\n",
              "      <td>1</td>\n",
              "      <td>2</td>\n",
              "      <td>9999-99-99</td>\n",
              "      <td>2</td>\n",
              "      <td>2</td>\n",
              "      <td>37</td>\n",
              "      <td>2</td>\n",
              "      <td>1</td>\n",
              "      <td>...</td>\n",
              "      <td>2</td>\n",
              "      <td>2</td>\n",
              "      <td>1</td>\n",
              "      <td>2</td>\n",
              "      <td>2</td>\n",
              "      <td>1</td>\n",
              "      <td>2</td>\n",
              "      <td>2</td>\n",
              "      <td>3</td>\n",
              "      <td>2</td>\n",
              "    </tr>\n",
              "    <tr>\n",
              "      <th>9</th>\n",
              "      <td>2</td>\n",
              "      <td>1</td>\n",
              "      <td>1</td>\n",
              "      <td>2</td>\n",
              "      <td>9999-99-99</td>\n",
              "      <td>2</td>\n",
              "      <td>2</td>\n",
              "      <td>25</td>\n",
              "      <td>2</td>\n",
              "      <td>2</td>\n",
              "      <td>...</td>\n",
              "      <td>2</td>\n",
              "      <td>2</td>\n",
              "      <td>2</td>\n",
              "      <td>2</td>\n",
              "      <td>2</td>\n",
              "      <td>2</td>\n",
              "      <td>2</td>\n",
              "      <td>2</td>\n",
              "      <td>3</td>\n",
              "      <td>2</td>\n",
              "    </tr>\n",
              "  </tbody>\n",
              "</table>\n",
              "<p>10 rows × 21 columns</p>\n",
              "</div>"
            ],
            "text/plain": [
              "   USMER  MEDICAL_UNIT  SEX  PATIENT_TYPE   DATE_DIED  INTUBED  PNEUMONIA  \\\n",
              "0      2             1    1             1  03/05/2020       97          1   \n",
              "1      2             1    2             1  03/06/2020       97          1   \n",
              "2      2             1    2             2  09/06/2020        1          2   \n",
              "3      2             1    1             1  12/06/2020       97          2   \n",
              "4      2             1    2             1  21/06/2020       97          2   \n",
              "5      2             1    1             2  9999-99-99        2          1   \n",
              "6      2             1    1             1  9999-99-99       97          2   \n",
              "7      2             1    1             1  9999-99-99       97          1   \n",
              "8      2             1    1             2  9999-99-99        2          2   \n",
              "9      2             1    1             2  9999-99-99        2          2   \n",
              "\n",
              "   AGE  PREGNANT  DIABETES  ...  ASTHMA  INMSUPR  HIPERTENSION  OTHER_DISEASE  \\\n",
              "0   65         2         2  ...       2        2             1              2   \n",
              "1   72        97         2  ...       2        2             1              2   \n",
              "2   55        97         1  ...       2        2             2              2   \n",
              "3   53         2         2  ...       2        2             2              2   \n",
              "4   68        97         1  ...       2        2             1              2   \n",
              "5   40         2         2  ...       2        2             2              2   \n",
              "6   64         2         2  ...       2        2             2              2   \n",
              "7   64         2         1  ...       2        1             1              2   \n",
              "8   37         2         1  ...       2        2             1              2   \n",
              "9   25         2         2  ...       2        2             2              2   \n",
              "\n",
              "   CARDIOVASCULAR  OBESITY  RENAL_CHRONIC  TOBACCO  CLASIFFICATION_FINAL  ICU  \n",
              "0               2        2              2        2                     3   97  \n",
              "1               2        1              1        2                     5   97  \n",
              "2               2        2              2        2                     3    2  \n",
              "3               2        2              2        2                     7   97  \n",
              "4               2        2              2        2                     3   97  \n",
              "5               2        2              2        2                     3    2  \n",
              "6               2        2              2        2                     3   97  \n",
              "7               2        2              1        2                     3   97  \n",
              "8               2        1              2        2                     3    2  \n",
              "9               2        2              2        2                     3    2  \n",
              "\n",
              "[10 rows x 21 columns]"
            ]
          },
          "execution_count": 293,
          "metadata": {},
          "output_type": "execute_result"
        }
      ],
      "source": [
        "df.iloc[0:10,:]"
      ]
    },
    {
      "cell_type": "code",
      "execution_count": 294,
      "metadata": {
        "colab": {
          "base_uri": "https://localhost:8080/"
        },
        "id": "iIFhECDdIjZw",
        "outputId": "d2d2f017-dd5f-4f1a-ea33-cd5f3d584883"
      },
      "outputs": [
        {
          "name": "stdout",
          "output_type": "stream",
          "text": [
            "<class 'pandas.core.frame.DataFrame'>\n",
            "RangeIndex: 1048575 entries, 0 to 1048574\n",
            "Data columns (total 21 columns):\n",
            " #   Column                Non-Null Count    Dtype \n",
            "---  ------                --------------    ----- \n",
            " 0   USMER                 1048575 non-null  int64 \n",
            " 1   MEDICAL_UNIT          1048575 non-null  int64 \n",
            " 2   SEX                   1048575 non-null  int64 \n",
            " 3   PATIENT_TYPE          1048575 non-null  int64 \n",
            " 4   DATE_DIED             1048575 non-null  object\n",
            " 5   INTUBED               1048575 non-null  int64 \n",
            " 6   PNEUMONIA             1048575 non-null  int64 \n",
            " 7   AGE                   1048575 non-null  int64 \n",
            " 8   PREGNANT              1048575 non-null  int64 \n",
            " 9   DIABETES              1048575 non-null  int64 \n",
            " 10  COPD                  1048575 non-null  int64 \n",
            " 11  ASTHMA                1048575 non-null  int64 \n",
            " 12  INMSUPR               1048575 non-null  int64 \n",
            " 13  HIPERTENSION          1048575 non-null  int64 \n",
            " 14  OTHER_DISEASE         1048575 non-null  int64 \n",
            " 15  CARDIOVASCULAR        1048575 non-null  int64 \n",
            " 16  OBESITY               1048575 non-null  int64 \n",
            " 17  RENAL_CHRONIC         1048575 non-null  int64 \n",
            " 18  TOBACCO               1048575 non-null  int64 \n",
            " 19  CLASIFFICATION_FINAL  1048575 non-null  int64 \n",
            " 20  ICU                   1048575 non-null  int64 \n",
            "dtypes: int64(20), object(1)\n",
            "memory usage: 168.0+ MB\n"
          ]
        }
      ],
      "source": [
        "df.info()"
      ]
    },
    {
      "cell_type": "code",
      "execution_count": 295,
      "metadata": {
        "colab": {
          "base_uri": "https://localhost:8080/",
          "height": 449
        },
        "id": "x_dxMZZExXgJ",
        "outputId": "abbe75a7-74d5-4a73-d62f-450dd4a3f8ae"
      },
      "outputs": [
        {
          "data": {
            "image/png": "[encoded data removed]",
            "text/plain": [
              "<Figure size 1600x800 with 1 Axes>"
            ]
          },
          "metadata": {},
          "output_type": "display_data"
        }
      ],
      "source": [
        "p = sns.countplot(data=df, x=\"USMER\")\n",
        "plt.show()"
      ]
    },
    {
      "cell_type": "code",
      "execution_count": 296,
      "metadata": {
        "colab": {
          "base_uri": "https://localhost:8080/",
          "height": 449
        },
        "id": "TLORVqtOyQJ4",
        "outputId": "f2fcbf5d-829e-47a1-b07a-5c43f053648a"
      },
      "outputs": [
        {
          "data": {
            "image/png": "[encoded data removed]",
            "text/plain": [
              "<Figure size 1600x800 with 1 Axes>"
            ]
          },
          "metadata": {},
          "output_type": "display_data"
        }
      ],
      "source": [
        "p = sns.countplot(data=df, x=\"MEDICAL_UNIT\")\n",
        "plt.show()"
      ]
    },
    {
      "cell_type": "code",
      "execution_count": 297,
      "metadata": {
        "colab": {
          "base_uri": "https://localhost:8080/",
          "height": 449
        },
        "id": "mKwDq4vxNW4S",
        "outputId": "270c2386-9112-4ac5-ae37-ea60341bb8da"
      },
      "outputs": [
        {
          "data": {
            "image/png": "[encoded data removed]",
            "text/plain": [
              "<Figure size 1600x800 with 1 Axes>"
            ]
          },
          "metadata": {},
          "output_type": "display_data"
        }
      ],
      "source": [
        "p = sns.countplot(data=df, x=\"SEX\")\n",
        "plt.show()"
      ]
    },
    {
      "cell_type": "code",
      "execution_count": 298,
      "metadata": {
        "colab": {
          "base_uri": "https://localhost:8080/",
          "height": 449
        },
        "id": "EERrhL0PNdHB",
        "outputId": "1e08f783-b863-44ef-8349-01af55a5231e"
      },
      "outputs": [
        {
          "data": {
            "image/png": "[encoded data removed]",
            "text/plain": [
              "<Figure size 1600x800 with 1 Axes>"
            ]
          },
          "metadata": {},
          "output_type": "display_data"
        }
      ],
      "source": [
        "p = sns.countplot(data=df, x=\"PATIENT_TYPE\")\n",
        "plt.show()"
      ]
    },
    {
      "cell_type": "code",
      "execution_count": 299,
      "metadata": {
        "colab": {
          "base_uri": "https://localhost:8080/",
          "height": 449
        },
        "id": "s941y2S3NibG",
        "outputId": "f4038e30-69bb-4f08-8a82-2994384df010"
      },
      "outputs": [
        {
          "data": {
            "image/png": "[encoded data removed]",
            "text/plain": [
              "<Figure size 1600x800 with 1 Axes>"
            ]
          },
          "metadata": {},
          "output_type": "display_data"
        }
      ],
      "source": [
        "p = sns.countplot(data=df, x=\"INTUBED\")\n",
        "plt.show()"
      ]
    },
    {
      "cell_type": "code",
      "execution_count": 300,
      "metadata": {
        "colab": {
          "base_uri": "https://localhost:8080/",
          "height": 449
        },
        "id": "uGUwPoPPNl8J",
        "outputId": "4ec1069b-a729-4d7e-9e1a-24209e36d37a"
      },
      "outputs": [
        {
          "data": {
            "image/png": "[encoded data removed]",
            "text/plain": [
              "<Figure size 1600x800 with 1 Axes>"
            ]
          },
          "metadata": {},
          "output_type": "display_data"
        }
      ],
      "source": [
        "p = sns.countplot(data=df, x=\"PNEUMONIA\")\n",
        "plt.show()"
      ]
    },
    {
      "cell_type": "code",
      "execution_count": 301,
      "metadata": {
        "colab": {
          "base_uri": "https://localhost:8080/",
          "height": 577
        },
        "id": "Ro4DVEQTNxxS",
        "outputId": "23c16f05-69a8-4349-d664-9f675ef66f30"
      },
      "outputs": [
        {
          "data": {
            "image/png": "[encoded data removed]",
            "text/plain": [
              "<Figure size 1600x800 with 1 Axes>"
            ]
          },
          "metadata": {},
          "output_type": "display_data"
        }
      ],
      "source": [
        "sns.set(rc={'figure.figsize':(16,8)})\n",
        "p = sns.countplot(data=df, x=\"AGE\")\n",
        "plt.xticks(range(0,107, 10))\n",
        "plt.show()"
      ]
    },
    {
      "cell_type": "code",
      "execution_count": 302,
      "metadata": {
        "colab": {
          "base_uri": "https://localhost:8080/",
          "height": 573
        },
        "id": "UTPTCSmRN0ka",
        "outputId": "ed8a4640-0e5a-4520-c520-79ed84f4d17f"
      },
      "outputs": [
        {
          "data": {
            "image/png": "[encoded data removed]",
            "text/plain": [
              "<Figure size 1600x800 with 1 Axes>"
            ]
          },
          "metadata": {},
          "output_type": "display_data"
        }
      ],
      "source": [
        "p = sns.countplot(data=df, x=\"PREGNANT\")\n",
        "plt.show()"
      ]
    },
    {
      "cell_type": "code",
      "execution_count": 303,
      "metadata": {
        "colab": {
          "base_uri": "https://localhost:8080/",
          "height": 573
        },
        "id": "8uFilZ8YN_ft",
        "outputId": "da8b49c5-f4c0-400b-f471-26a2e059224c"
      },
      "outputs": [
        {
          "data": {
            "image/png": "[encoded data removed]",
            "text/plain": [
              "<Figure size 1600x800 with 1 Axes>"
            ]
          },
          "metadata": {},
          "output_type": "display_data"
        }
      ],
      "source": [
        "p = sns.countplot(data=df, x=\"DIABETES\")\n",
        "plt.show()"
      ]
    },
    {
      "cell_type": "code",
      "execution_count": 304,
      "metadata": {
        "colab": {
          "base_uri": "https://localhost:8080/",
          "height": 600
        },
        "id": "tO3WtajuOQUk",
        "outputId": "f0b15f66-625a-40db-e00a-d29ff04d510d"
      },
      "outputs": [
        {
          "data": {
            "image/png": "[encoded data removed]",
            "text/plain": [
              "<Figure size 1600x800 with 1 Axes>"
            ]
          },
          "metadata": {},
          "output_type": "display_data"
        }
      ],
      "source": [
        "p = sns.countplot(data=df, x=\"COPD\")\n",
        "plt.show()"
      ]
    },
    {
      "cell_type": "code",
      "execution_count": 305,
      "metadata": {
        "colab": {
          "base_uri": "https://localhost:8080/",
          "height": 600
        },
        "id": "C1vhKs-6OYE5",
        "outputId": "b5dfb740-85d1-428a-f4de-f0f35c4fa776"
      },
      "outputs": [
        {
          "data": {
            "image/png": "[encoded data removed]",
            "text/plain": [
              "<Figure size 1600x800 with 1 Axes>"
            ]
          },
          "metadata": {},
          "output_type": "display_data"
        }
      ],
      "source": [
        "p = sns.countplot(data=df, x=\"ASTHMA\")\n",
        "plt.show()"
      ]
    },
    {
      "cell_type": "code",
      "execution_count": 306,
      "metadata": {
        "colab": {
          "base_uri": "https://localhost:8080/",
          "height": 600
        },
        "id": "OqTvAK2cOb0J",
        "outputId": "7a6c1e44-47b4-471c-8880-c614ebe6837b"
      },
      "outputs": [
        {
          "data": {
            "image/png": "[encoded data removed]",
            "text/plain": [
              "<Figure size 1600x800 with 1 Axes>"
            ]
          },
          "metadata": {},
          "output_type": "display_data"
        }
      ],
      "source": [
        "p = sns.countplot(data=df, x=\"INMSUPR\")\n",
        "plt.show()"
      ]
    },
    {
      "cell_type": "code",
      "execution_count": 307,
      "metadata": {
        "colab": {
          "base_uri": "https://localhost:8080/",
          "height": 573
        },
        "id": "DIiaKNa6OgPA",
        "outputId": "aac1f18c-03b3-4be7-db0d-5af753c6c8f7"
      },
      "outputs": [
        {
          "data": {
            "image/png": "[encoded data removed]",
            "text/plain": [
              "<Figure size 1600x800 with 1 Axes>"
            ]
          },
          "metadata": {},
          "output_type": "display_data"
        }
      ],
      "source": [
        "p = sns.countplot(data=df, x=\"HIPERTENSION\")\n",
        "plt.show()"
      ]
    },
    {
      "cell_type": "code",
      "execution_count": 308,
      "metadata": {
        "colab": {
          "base_uri": "https://localhost:8080/",
          "height": 600
        },
        "id": "nKU_9oH6OkBO",
        "outputId": "b35432eb-ff24-4075-e621-b6e38c671761"
      },
      "outputs": [
        {
          "data": {
            "image/png": "[encoded data removed]",
            "text/plain": [
              "<Figure size 1600x800 with 1 Axes>"
            ]
          },
          "metadata": {},
          "output_type": "display_data"
        }
      ],
      "source": [
        "p = sns.countplot(data=df, x=\"OTHER_DISEASE\")\n",
        "plt.show()"
      ]
    },
    {
      "cell_type": "code",
      "execution_count": 309,
      "metadata": {
        "colab": {
          "base_uri": "https://localhost:8080/",
          "height": 600
        },
        "id": "dpYbOmV9Om9q",
        "outputId": "46dd0320-b4c5-432c-fd01-4fd27dfddd56"
      },
      "outputs": [
        {
          "data": {
            "image/png": "[encoded data removed]",
            "text/plain": [
              "<Figure size 1600x800 with 1 Axes>"
            ]
          },
          "metadata": {},
          "output_type": "display_data"
        }
      ],
      "source": [
        "p = sns.countplot(data=df, x=\"CARDIOVASCULAR\")\n",
        "plt.show()"
      ]
    },
    {
      "cell_type": "code",
      "execution_count": 310,
      "metadata": {
        "colab": {
          "base_uri": "https://localhost:8080/",
          "height": 573
        },
        "id": "LYPZI4-mOqgp",
        "outputId": "18a14517-e6db-414a-97b4-39dba6037cd9"
      },
      "outputs": [
        {
          "data": {
            "image/png": "[encoded data removed]",
            "text/plain": [
              "<Figure size 1600x800 with 1 Axes>"
            ]
          },
          "metadata": {},
          "output_type": "display_data"
        }
      ],
      "source": [
        "p = sns.countplot(data=df, x=\"OBESITY\")\n",
        "plt.show()"
      ]
    },
    {
      "cell_type": "code",
      "execution_count": 311,
      "metadata": {
        "colab": {
          "base_uri": "https://localhost:8080/",
          "height": 600
        },
        "id": "4C23vG7UOtTG",
        "outputId": "d96d1cd2-4e1d-42c7-c731-7ba35b0bf4b9"
      },
      "outputs": [
        {
          "data": {
            "image/png": "[encoded data removed]",
            "text/plain": [
              "<Figure size 1600x800 with 1 Axes>"
            ]
          },
          "metadata": {},
          "output_type": "display_data"
        }
      ],
      "source": [
        "p = sns.countplot(data=df, x=\"RENAL_CHRONIC\")\n",
        "plt.show()"
      ]
    },
    {
      "cell_type": "code",
      "execution_count": 312,
      "metadata": {
        "colab": {
          "base_uri": "https://localhost:8080/",
          "height": 600
        },
        "id": "KWrZiLtFOxoY",
        "outputId": "a2914938-56df-4225-a4df-3180e77e9a12"
      },
      "outputs": [
        {
          "data": {
            "image/png": "[encoded data removed]",
            "text/plain": [
              "<Figure size 1600x800 with 1 Axes>"
            ]
          },
          "metadata": {},
          "output_type": "display_data"
        }
      ],
      "source": [
        "p = sns.countplot(data=df, x=\"TOBACCO\")\n",
        "plt.show()"
      ]
    },
    {
      "cell_type": "code",
      "execution_count": 313,
      "metadata": {
        "colab": {
          "base_uri": "https://localhost:8080/",
          "height": 573
        },
        "id": "-TTo_U6CO0ZW",
        "outputId": "328e986c-3e81-411c-8f41-6a8083bff1b2"
      },
      "outputs": [
        {
          "data": {
            "image/png": "[encoded data removed]",
            "text/plain": [
              "<Figure size 1600x800 with 1 Axes>"
            ]
          },
          "metadata": {},
          "output_type": "display_data"
        }
      ],
      "source": [
        "p = sns.countplot(data=df, x=\"CLASIFFICATION_FINAL\")\n",
        "plt.show()"
      ]
    },
    {
      "cell_type": "code",
      "execution_count": 314,
      "metadata": {
        "colab": {
          "base_uri": "https://localhost:8080/",
          "height": 573
        },
        "id": "rYZJTzkAPKDA",
        "outputId": "2e499491-a753-4746-a329-a4329ccb5918"
      },
      "outputs": [
        {
          "data": {
            "image/png": "[encoded data removed]",
            "text/plain": [
              "<Figure size 1600x800 with 1 Axes>"
            ]
          },
          "metadata": {},
          "output_type": "display_data"
        }
      ],
      "source": [
        "p = sns.countplot(data=df, x=\"ICU\")\n",
        "plt.show()"
      ]
    },
    {
      "cell_type": "markdown",
      "metadata": {
        "id": "M4J4lkQe5G5V"
      },
      "source": [
        "##Macierz Koleracji Atrybutów"
      ]
    },
    {
      "cell_type": "code",
      "execution_count": 315,
      "metadata": {
        "colab": {
          "base_uri": "https://localhost:8080/",
          "height": 598
        },
        "id": "BdOe66XaPm6V",
        "outputId": "9f6d33e9-8b63-4d56-83b3-362acd69a1af"
      },
      "outputs": [
        {
          "data": {
            "application/vnd.plotly.v1+json": {
              "config": {
                "plotlyServerURL": "https://plot.ly"
              },
              "data": [
                {
                  "coloraxis": "coloraxis",
                  "hovertemplate": "x: %{x}<br>y: %{y}<br>color: %{z}<extra></extra>",
                  "name": "0",
                  "type": "heatmap",
                  "x": [
                    "USMER",
                    "MEDICAL_UNIT",
                    "SEX",
                    "PATIENT_TYPE",
                    "INTUBED",
                    "PNEUMONIA",
                    "AGE",
                    "PREGNANT",
                    "DIABETES",
                    "COPD",
                    "ASTHMA",
                    "INMSUPR",
                    "HIPERTENSION",
                    "OTHER_DISEASE",
                    "CARDIOVASCULAR",
                    "OBESITY",
                    "RENAL_CHRONIC",
                    "TOBACCO",
                    "CLASIFFICATION_FINAL",
                    "ICU"
                  ],
                  "xaxis": "x",
                  "y": [
                    "USMER",
                    "MEDICAL_UNIT",
                    "SEX",
                    "PATIENT_TYPE",
                    "INTUBED",
                    "PNEUMONIA",
                    "AGE",
                    "PREGNANT",
                    "DIABETES",
                    "COPD",
                    "ASTHMA",
                    "INMSUPR",
                    "HIPERTENSION",
                    "OTHER_DISEASE",
                    "CARDIOVASCULAR",
                    "OBESITY",
                    "RENAL_CHRONIC",
                    "TOBACCO",
                    "CLASIFFICATION_FINAL",
                    "ICU"
                  ],
                  "yaxis": "y",
                  "z": [
                    [
                      1,
                      0.12792670038142112,
                      -0.0011257272912829567,
                      -0.19056963652952277,
                      0.175456612358724,
                      -0.15494984446623275,
                      -0.045087996740866346,
                      -0.0014692813145307125,
                      0.014704292832418,
                      0.011029591099809216,
                      0.010814352553732197,
                      0.003234126617190657,
                      0.014830151199823458,
                      -0.015763236504586945,
                      0.01009740391692049,
                      0.014566934940185737,
                      0.011527378895203092,
                      0.010637525453827705,
                      0.02883984929026443,
                      0.17490084006916914
                    ],
                    [
                      0.12792670038142112,
                      1,
                      0.001475057885896651,
                      -0.20541250152165477,
                      0.2052433905223073,
                      -0.04643302188442606,
                      -0.082223060227178,
                      0.005300158884123148,
                      0.01952257480512897,
                      0.014209059626927782,
                      0.013312451494493522,
                      0.01178495930144715,
                      0.02096406448113878,
                      0.027452966687420012,
                      0.014406335996219257,
                      0.01957732100216807,
                      0.014751188364349356,
                      0.012282357744506598,
                      0.07998140155182853,
                      0.2051410028422234
                    ],
                    [
                      -0.0011257272912829567,
                      0.001475057885896651,
                      1,
                      0.08950549541771657,
                      -0.08994330357561413,
                      -0.012130890005540997,
                      0.028367167784954496,
                      0.9927132231790008,
                      0.00888766097507621,
                      0.009372145994951743,
                      0.010415444795903938,
                      0.007999208210862458,
                      0.009257269658133813,
                      0.009039319018669082,
                      0.008174060112677684,
                      0.009858123448509353,
                      0.008248670223797296,
                      0.00491912248683269,
                      -0.05778200930186289,
                      -0.08984445837519413
                    ],
                    [
                      -0.19056963652952277,
                      -0.20541250152165477,
                      0.08950549541771657,
                      1,
                      -0.9763346506714612,
                      0.022966108022502874,
                      0.31519286873338687,
                      0.08833989919839813,
                      0.008742603265199596,
                      0.019548092045514165,
                      0.023041945650478575,
                      0.02492425593947205,
                      0.006852487870425489,
                      0.03672381419551676,
                      0.022174793417177943,
                      0.019650351636061082,
                      0.01887268990482551,
                      0.022122902700452335,
                      -0.18336965819874865,
                      -0.9758099151302319
                    ],
                    [
                      0.175456612358724,
                      0.2052433905223073,
                      -0.08994330357561413,
                      -0.9763346506714612,
                      1,
                      0.07974282454409261,
                      -0.3179453763906686,
                      -0.08809739884921876,
                      -0.00921454918723086,
                      -0.0201239959804267,
                      -0.023446248914829118,
                      -0.024139724420975017,
                      -0.00762775164147126,
                      -0.035404063443889494,
                      -0.022442351573630025,
                      -0.020216705090852594,
                      -0.019309421224473097,
                      -0.022427509726076402,
                      0.19307514681825508,
                      0.9994343569363319
                    ],
                    [
                      -0.15494984446623275,
                      -0.04643302188442606,
                      -0.012130890005540997,
                      0.022966108022502874,
                      0.07974282454409261,
                      1,
                      -0.07312727724481038,
                      -0.0072838917462430056,
                      -0.004483516802290563,
                      -0.005617896167493594,
                      -0.005391837734945947,
                      -0.0008017831872930519,
                      -0.004799028692538735,
                      0.0016115573488194159,
                      -0.004758244052799277,
                      -0.004276005394212764,
                      -0.005286822224466315,
                      -0.004325285817284173,
                      0.07535121763674622,
                      0.07969093264243562
                    ],
                    [
                      -0.045087996740866346,
                      -0.082223060227178,
                      0.028367167784954496,
                      0.31519286873338687,
                      -0.3179453763906686,
                      -0.07312727724481038,
                      1,
                      0.027257475061200562,
                      0.0044216901816328084,
                      0.019048440916819964,
                      0.022715430863936546,
                      0.022820187584213333,
                      -0.0049641846237483776,
                      0.02283663526776199,
                      0.019488639465638554,
                      0.01549959387558032,
                      0.020123712110798407,
                      0.021262553265126306,
                      -0.1526374602974523,
                      -0.3178125004795721
                    ],
                    [
                      -0.0014692813145307125,
                      0.005300158884123148,
                      0.9927132231790008,
                      0.08833989919839813,
                      -0.08809739884921876,
                      -0.0072838917462430056,
                      0.027257475061200562,
                      1,
                      0.014707395584291696,
                      0.015735743063401315,
                      0.01676488028356654,
                      0.014264628484044419,
                      0.015335334704402181,
                      0.014175178787527347,
                      0.014378005743598458,
                      0.015894560589617256,
                      0.014392357654767067,
                      0.010793526003564046,
                      -0.057809469796935006,
                      -0.08799120063562754
                    ],
                    [
                      0.014704292832418,
                      0.01952257480512897,
                      0.00888766097507621,
                      0.008742603265199596,
                      -0.00921454918723086,
                      -0.004483516802290563,
                      0.0044216901816328084,
                      0.014707395584291696,
                      1,
                      0.8288226144113188,
                      0.8293490218767833,
                      0.7811082055110202,
                      0.8350178504029536,
                      0.634610605068752,
                      0.8094174513189506,
                      0.7527393748048266,
                      0.8126567685020994,
                      0.7717634787814336,
                      -0.0047387655178426176,
                      -0.009223141203479827
                    ],
                    [
                      0.011029591099809216,
                      0.014209059626927782,
                      0.009372145994951743,
                      0.019548092045514165,
                      -0.0201239959804267,
                      -0.005617896167493594,
                      0.019048440916819964,
                      0.015735743063401315,
                      0.8288226144113188,
                      1,
                      0.9089290426829962,
                      0.8522729629825117,
                      0.8552485990612028,
                      0.6873230749281677,
                      0.8800972047183098,
                      0.8148680385233217,
                      0.88403178599042,
                      0.8360974805501172,
                      -0.010336483259646733,
                      -0.020146211542819873
                    ],
                    [
                      0.010814352553732197,
                      0.013312451494493522,
                      0.010415444795903938,
                      0.023041945650478575,
                      -0.023446248914829118,
                      -0.005391837734945947,
                      0.022715430863936546,
                      0.01676488028356654,
                      0.8293490218767833,
                      0.9089290426829962,
                      1,
                      0.8689166671866595,
                      0.864263776028423,
                      0.6967093532061801,
                      0.8910258668749346,
                      0.8246307034489592,
                      0.8950503969639385,
                      0.8450668960310411,
                      -0.011177889087449102,
                      -0.023415488275090053
                    ],
                    [
                      0.003234126617190657,
                      0.01178495930144715,
                      0.007999208210862458,
                      0.02492425593947205,
                      -0.024139724420975017,
                      -0.0008017831872930519,
                      0.022820187584213333,
                      0.014264628484044419,
                      0.7811082055110202,
                      0.8522729629825117,
                      0.8689166671866595,
                      1,
                      0.8251580537917054,
                      0.7348258529233976,
                      0.8533649531865808,
                      0.7839526071238165,
                      0.8527554533691328,
                      0.8067489002557857,
                      -0.009411781788913769,
                      -0.024077218636574124
                    ],
                    [
                      0.014830151199823458,
                      0.02096406448113878,
                      0.009257269658133813,
                      0.006852487870425489,
                      -0.00762775164147126,
                      -0.004799028692538735,
                      -0.0049641846237483776,
                      0.015335334704402181,
                      0.8350178504029536,
                      0.8552485990612028,
                      0.864263776028423,
                      0.8251580537917054,
                      1,
                      0.6715322451183566,
                      0.861063132890061,
                      0.8051274390415811,
                      0.8604769976120958,
                      0.8165388875469279,
                      -0.006020237325700838,
                      -0.007572836708619982
                    ],
                    [
                      -0.015763236504586945,
                      0.027452966687420012,
                      0.009039319018669082,
                      0.03672381419551676,
                      -0.035404063443889494,
                      0.0016115573488194159,
                      0.02283663526776199,
                      0.014175178787527347,
                      0.634610605068752,
                      0.6873230749281677,
                      0.6967093532061801,
                      0.7348258529233976,
                      0.6715322451183566,
                      1,
                      0.7171290911990276,
                      0.6498086197119066,
                      0.7047250096245182,
                      0.6686214487754426,
                      -0.011142710652587845,
                      -0.035329791580848556
                    ],
                    [
                      0.01009740391692049,
                      0.014406335996219257,
                      0.008174060112677684,
                      0.022174793417177943,
                      -0.022442351573630025,
                      -0.004758244052799277,
                      0.019488639465638554,
                      0.014378005743598458,
                      0.8094174513189506,
                      0.8800972047183098,
                      0.8910258668749346,
                      0.8533649531865808,
                      0.861063132890061,
                      0.7171290911990276,
                      1,
                      0.8343892136798007,
                      0.9132477011761496,
                      0.8581018252232934,
                      -0.012142899794549881,
                      -0.022413250625538155
                    ],
                    [
                      0.014566934940185737,
                      0.01957732100216807,
                      0.009858123448509353,
                      0.019650351636061082,
                      -0.020216705090852594,
                      -0.004276005394212764,
                      0.01549959387558032,
                      0.015894560589617256,
                      0.7527393748048266,
                      0.8148680385233217,
                      0.8246307034489592,
                      0.7839526071238165,
                      0.8051274390415811,
                      0.6498086197119066,
                      0.8343892136798007,
                      1,
                      0.8424660289976144,
                      0.8018340061870151,
                      -0.006924411016774965,
                      -0.020254492243648604
                    ],
                    [
                      0.011527378895203092,
                      0.014751188364349356,
                      0.008248670223797296,
                      0.01887268990482551,
                      -0.019309421224473097,
                      -0.005286822224466315,
                      0.020123712110798407,
                      0.014392357654767067,
                      0.8126567685020994,
                      0.88403178599042,
                      0.8950503969639385,
                      0.8527554533691328,
                      0.8604769976120958,
                      0.7047250096245182,
                      0.9132477011761496,
                      0.8424660289976144,
                      1,
                      0.8687610209607316,
                      -0.011342198411331843,
                      -0.019284890212443243
                    ],
                    [
                      0.010637525453827705,
                      0.012282357744506598,
                      0.00491912248683269,
                      0.022122902700452335,
                      -0.022427509726076402,
                      -0.004325285817284173,
                      0.021262553265126306,
                      0.010793526003564046,
                      0.7717634787814336,
                      0.8360974805501172,
                      0.8450668960310411,
                      0.8067489002557857,
                      0.8165388875469279,
                      0.6686214487754426,
                      0.8581018252232934,
                      0.8018340061870151,
                      0.8687610209607316,
                      1,
                      -0.01256707629152292,
                      -0.022444991832782688
                    ],
                    [
                      0.02883984929026443,
                      0.07998140155182853,
                      -0.05778200930186289,
                      -0.18336965819874865,
                      0.19307514681825508,
                      0.07535121763674622,
                      -0.1526374602974523,
                      -0.057809469796935006,
                      -0.0047387655178426176,
                      -0.010336483259646733,
                      -0.011177889087449102,
                      -0.009411781788913769,
                      -0.006020237325700838,
                      -0.011142710652587845,
                      -0.012142899794549881,
                      -0.006924411016774965,
                      -0.011342198411331843,
                      -0.01256707629152292,
                      1,
                      0.19316320013234603
                    ],
                    [
                      0.17490084006916914,
                      0.2051410028422234,
                      -0.08984445837519413,
                      -0.9758099151302319,
                      0.9994343569363319,
                      0.07969093264243562,
                      -0.3178125004795721,
                      -0.08799120063562754,
                      -0.009223141203479827,
                      -0.020146211542819873,
                      -0.023415488275090053,
                      -0.024077218636574124,
                      -0.007572836708619982,
                      -0.035329791580848556,
                      -0.022413250625538155,
                      -0.020254492243648604,
                      -0.019284890212443243,
                      -0.022444991832782688,
                      0.19316320013234603,
                      1
                    ]
                  ]
                }
              ],
              "layout": {
                "coloraxis": {
                  "colorscale": [
                    [
                      0,
                      "#0d0887"
                    ],
                    [
                      0.1111111111111111,
                      "#46039f"
                    ],
                    [
                      0.2222222222222222,
                      "#7201a8"
                    ],
                    [
                      0.3333333333333333,
                      "#9c179e"
                    ],
                    [
                      0.4444444444444444,
                      "#bd3786"
                    ],
                    [
                      0.5555555555555556,
                      "#d8576b"
                    ],
                    [
                      0.6666666666666666,
                      "#ed7953"
                    ],
                    [
                      0.7777777777777778,
                      "#fb9f3a"
                    ],
                    [
                      0.8888888888888888,
                      "#fdca26"
                    ],
                    [
                      1,
                      "#f0f921"
                    ]
                  ]
                },
                "template": {
                  "data": {
                    "bar": [
                      {
                        "error_x": {
                          "color": "#2a3f5f"
                        },
                        "error_y": {
                          "color": "#2a3f5f"
                        },
                        "marker": {
                          "line": {
                            "color": "#E5ECF6",
                            "width": 0.5
                          },
                          "pattern": {
                            "fillmode": "overlay",
                            "size": 10,
                            "solidity": 0.2
                          }
                        },
                        "type": "bar"
                      }
                    ],
                    "barpolar": [
                      {
                        "marker": {
                          "line": {
                            "color": "#E5ECF6",
                            "width": 0.5
                          },
                          "pattern": {
                            "fillmode": "overlay",
                            "size": 10,
                            "solidity": 0.2
                          }
                        },
                        "type": "barpolar"
                      }
                    ],
                    "carpet": [
                      {
                        "aaxis": {
                          "endlinecolor": "#2a3f5f",
                          "gridcolor": "white",
                          "linecolor": "white",
                          "minorgridcolor": "white",
                          "startlinecolor": "#2a3f5f"
                        },
                        "baxis": {
                          "endlinecolor": "#2a3f5f",
                          "gridcolor": "white",
                          "linecolor": "white",
                          "minorgridcolor": "white",
                          "startlinecolor": "#2a3f5f"
                        },
                        "type": "carpet"
                      }
                    ],
                    "choropleth": [
                      {
                        "colorbar": {
                          "outlinewidth": 0,
                          "ticks": ""
                        },
                        "type": "choropleth"
                      }
                    ],
                    "contour": [
                      {
                        "colorbar": {
                          "outlinewidth": 0,
                          "ticks": ""
                        },
                        "colorscale": [
                          [
                            0,
                            "#0d0887"
                          ],
                          [
                            0.1111111111111111,
                            "#46039f"
                          ],
                          [
                            0.2222222222222222,
                            "#7201a8"
                          ],
                          [
                            0.3333333333333333,
                            "#9c179e"
                          ],
                          [
                            0.4444444444444444,
                            "#bd3786"
                          ],
                          [
                            0.5555555555555556,
                            "#d8576b"
                          ],
                          [
                            0.6666666666666666,
                            "#ed7953"
                          ],
                          [
                            0.7777777777777778,
                            "#fb9f3a"
                          ],
                          [
                            0.8888888888888888,
                            "#fdca26"
                          ],
                          [
                            1,
                            "#f0f921"
                          ]
                        ],
                        "type": "contour"
                      }
                    ],
                    "contourcarpet": [
                      {
                        "colorbar": {
                          "outlinewidth": 0,
                          "ticks": ""
                        },
                        "type": "contourcarpet"
                      }
                    ],
                    "heatmap": [
                      {
                        "colorbar": {
                          "outlinewidth": 0,
                          "ticks": ""
                        },
                        "colorscale": [
                          [
                            0,
                            "#0d0887"
                          ],
                          [
                            0.1111111111111111,
                            "#46039f"
                          ],
                          [
                            0.2222222222222222,
                            "#7201a8"
                          ],
                          [
                            0.3333333333333333,
                            "#9c179e"
                          ],
                          [
                            0.4444444444444444,
                            "#bd3786"
                          ],
                          [
                            0.5555555555555556,
                            "#d8576b"
                          ],
                          [
                            0.6666666666666666,
                            "#ed7953"
                          ],
                          [
                            0.7777777777777778,
                            "#fb9f3a"
                          ],
                          [
                            0.8888888888888888,
                            "#fdca26"
                          ],
                          [
                            1,
                            "#f0f921"
                          ]
                        ],
                        "type": "heatmap"
                      }
                    ],
                    "heatmapgl": [
                      {
                        "colorbar": {
                          "outlinewidth": 0,
                          "ticks": ""
                        },
                        "colorscale": [
                          [
                            0,
                            "#0d0887"
                          ],
                          [
                            0.1111111111111111,
                            "#46039f"
                          ],
                          [
                            0.2222222222222222,
                            "#7201a8"
                          ],
                          [
                            0.3333333333333333,
                            "#9c179e"
                          ],
                          [
                            0.4444444444444444,
                            "#bd3786"
                          ],
                          [
                            0.5555555555555556,
                            "#d8576b"
                          ],
                          [
                            0.6666666666666666,
                            "#ed7953"
                          ],
                          [
                            0.7777777777777778,
                            "#fb9f3a"
                          ],
                          [
                            0.8888888888888888,
                            "#fdca26"
                          ],
                          [
                            1,
                            "#f0f921"
                          ]
                        ],
                        "type": "heatmapgl"
                      }
                    ],
                    "histogram": [
                      {
                        "marker": {
                          "pattern": {
                            "fillmode": "overlay",
                            "size": 10,
                            "solidity": 0.2
                          }
                        },
                        "type": "histogram"
                      }
                    ],
                    "histogram2d": [
                      {
                        "colorbar": {
                          "outlinewidth": 0,
                          "ticks": ""
                        },
                        "colorscale": [
                          [
                            0,
                            "#0d0887"
                          ],
                          [
                            0.1111111111111111,
                            "#46039f"
                          ],
                          [
                            0.2222222222222222,
                            "#7201a8"
                          ],
                          [
                            0.3333333333333333,
                            "#9c179e"
                          ],
                          [
                            0.4444444444444444,
                            "#bd3786"
                          ],
                          [
                            0.5555555555555556,
                            "#d8576b"
                          ],
                          [
                            0.6666666666666666,
                            "#ed7953"
                          ],
                          [
                            0.7777777777777778,
                            "#fb9f3a"
                          ],
                          [
                            0.8888888888888888,
                            "#fdca26"
                          ],
                          [
                            1,
                            "#f0f921"
                          ]
                        ],
                        "type": "histogram2d"
                      }
                    ],
                    "histogram2dcontour": [
                      {
                        "colorbar": {
                          "outlinewidth": 0,
                          "ticks": ""
                        },
                        "colorscale": [
                          [
                            0,
                            "#0d0887"
                          ],
                          [
                            0.1111111111111111,
                            "#46039f"
                          ],
                          [
                            0.2222222222222222,
                            "#7201a8"
                          ],
                          [
                            0.3333333333333333,
                            "#9c179e"
                          ],
                          [
                            0.4444444444444444,
                            "#bd3786"
                          ],
                          [
                            0.5555555555555556,
                            "#d8576b"
                          ],
                          [
                            0.6666666666666666,
                            "#ed7953"
                          ],
                          [
                            0.7777777777777778,
                            "#fb9f3a"
                          ],
                          [
                            0.8888888888888888,
                            "#fdca26"
                          ],
                          [
                            1,
                            "#f0f921"
                          ]
                        ],
                        "type": "histogram2dcontour"
                      }
                    ],
                    "mesh3d": [
                      {
                        "colorbar": {
                          "outlinewidth": 0,
                          "ticks": ""
                        },
                        "type": "mesh3d"
                      }
                    ],
                    "parcoords": [
                      {
                        "line": {
                          "colorbar": {
                            "outlinewidth": 0,
                            "ticks": ""
                          }
                        },
                        "type": "parcoords"
                      }
                    ],
                    "pie": [
                      {
                        "automargin": true,
                        "type": "pie"
                      }
                    ],
                    "scatter": [
                      {
                        "fillpattern": {
                          "fillmode": "overlay",
                          "size": 10,
                          "solidity": 0.2
                        },
                        "type": "scatter"
                      }
                    ],
                    "scatter3d": [
                      {
                        "line": {
                          "colorbar": {
                            "outlinewidth": 0,
                            "ticks": ""
                          }
                        },
                        "marker": {
                          "colorbar": {
                            "outlinewidth": 0,
                            "ticks": ""
                          }
                        },
                        "type": "scatter3d"
                      }
                    ],
                    "scattercarpet": [
                      {
                        "marker": {
                          "colorbar": {
                            "outlinewidth": 0,
                            "ticks": ""
                          }
                        },
                        "type": "scattercarpet"
                      }
                    ],
                    "scattergeo": [
                      {
                        "marker": {
                          "colorbar": {
                            "outlinewidth": 0,
                            "ticks": ""
                          }
                        },
                        "type": "scattergeo"
                      }
                    ],
                    "scattergl": [
                      {
                        "marker": {
                          "colorbar": {
                            "outlinewidth": 0,
                            "ticks": ""
                          }
                        },
                        "type": "scattergl"
                      }
                    ],
                    "scattermapbox": [
                      {
                        "marker": {
                          "colorbar": {
                            "outlinewidth": 0,
                            "ticks": ""
                          }
                        },
                        "type": "scattermapbox"
                      }
                    ],
                    "scatterpolar": [
                      {
                        "marker": {
                          "colorbar": {
                            "outlinewidth": 0,
                            "ticks": ""
                          }
                        },
                        "type": "scatterpolar"
                      }
                    ],
                    "scatterpolargl": [
                      {
                        "marker": {
                          "colorbar": {
                            "outlinewidth": 0,
                            "ticks": ""
                          }
                        },
                        "type": "scatterpolargl"
                      }
                    ],
                    "scatterternary": [
                      {
                        "marker": {
                          "colorbar": {
                            "outlinewidth": 0,
                            "ticks": ""
                          }
                        },
                        "type": "scatterternary"
                      }
                    ],
                    "surface": [
                      {
                        "colorbar": {
                          "outlinewidth": 0,
                          "ticks": ""
                        },
                        "colorscale": [
                          [
                            0,
                            "#0d0887"
                          ],
                          [
                            0.1111111111111111,
                            "#46039f"
                          ],
                          [
                            0.2222222222222222,
                            "#7201a8"
                          ],
                          [
                            0.3333333333333333,
                            "#9c179e"
                          ],
                          [
                            0.4444444444444444,
                            "#bd3786"
                          ],
                          [
                            0.5555555555555556,
                            "#d8576b"
                          ],
                          [
                            0.6666666666666666,
                            "#ed7953"
                          ],
                          [
                            0.7777777777777778,
                            "#fb9f3a"
                          ],
                          [
                            0.8888888888888888,
                            "#fdca26"
                          ],
                          [
                            1,
                            "#f0f921"
                          ]
                        ],
                        "type": "surface"
                      }
                    ],
                    "table": [
                      {
                        "cells": {
                          "fill": {
                            "color": "#EBF0F8"
                          },
                          "line": {
                            "color": "white"
                          }
                        },
                        "header": {
                          "fill": {
                            "color": "#C8D4E3"
                          },
                          "line": {
                            "color": "white"
                          }
                        },
                        "type": "table"
                      }
                    ]
                  },
                  "layout": {
                    "annotationdefaults": {
                      "arrowcolor": "#2a3f5f",
                      "arrowhead": 0,
                      "arrowwidth": 1
                    },
                    "autotypenumbers": "strict",
                    "coloraxis": {
                      "colorbar": {
                        "outlinewidth": 0,
                        "ticks": ""
                      }
                    },
                    "colorscale": {
                      "diverging": [
                        [
                          0,
                          "#8e0152"
                        ],
                        [
                          0.1,
                          "#c51b7d"
                        ],
                        [
                          0.2,
                          "#de77ae"
                        ],
                        [
                          0.3,
                          "#f1b6da"
                        ],
                        [
                          0.4,
                          "#fde0ef"
                        ],
                        [
                          0.5,
                          "#f7f7f7"
                        ],
                        [
                          0.6,
                          "#e6f5d0"
                        ],
                        [
                          0.7,
                          "#b8e186"
                        ],
                        [
                          0.8,
                          "#7fbc41"
                        ],
                        [
                          0.9,
                          "#4d9221"
                        ],
                        [
                          1,
                          "#276419"
                        ]
                      ],
                      "sequential": [
                        [
                          0,
                          "#0d0887"
                        ],
                        [
                          0.1111111111111111,
                          "#46039f"
                        ],
                        [
                          0.2222222222222222,
                          "#7201a8"
                        ],
                        [
                          0.3333333333333333,
                          "#9c179e"
                        ],
                        [
                          0.4444444444444444,
                          "#bd3786"
                        ],
                        [
                          0.5555555555555556,
                          "#d8576b"
                        ],
                        [
                          0.6666666666666666,
                          "#ed7953"
                        ],
                        [
                          0.7777777777777778,
                          "#fb9f3a"
                        ],
                        [
                          0.8888888888888888,
                          "#fdca26"
                        ],
                        [
                          1,
                          "#f0f921"
                        ]
                      ],
                      "sequentialminus": [
                        [
                          0,
                          "#0d0887"
                        ],
                        [
                          0.1111111111111111,
                          "#46039f"
                        ],
                        [
                          0.2222222222222222,
                          "#7201a8"
                        ],
                        [
                          0.3333333333333333,
                          "#9c179e"
                        ],
                        [
                          0.4444444444444444,
                          "#bd3786"
                        ],
                        [
                          0.5555555555555556,
                          "#d8576b"
                        ],
                        [
                          0.6666666666666666,
                          "#ed7953"
                        ],
                        [
                          0.7777777777777778,
                          "#fb9f3a"
                        ],
                        [
                          0.8888888888888888,
                          "#fdca26"
                        ],
                        [
                          1,
                          "#f0f921"
                        ]
                      ]
                    },
                    "colorway": [
                      "#636efa",
                      "#EF553B",
                      "#00cc96",
                      "#ab63fa",
                      "#FFA15A",
                      "#19d3f3",
                      "#FF6692",
                      "#B6E880",
                      "#FF97FF",
                      "#FECB52"
                    ],
                    "font": {
                      "color": "#2a3f5f"
                    },
                    "geo": {
                      "bgcolor": "white",
                      "lakecolor": "white",
                      "landcolor": "#E5ECF6",
                      "showlakes": true,
                      "showland": true,
                      "subunitcolor": "white"
                    },
                    "hoverlabel": {
                      "align": "left"
                    },
                    "hovermode": "closest",
                    "mapbox": {
                      "style": "light"
                    },
                    "paper_bgcolor": "white",
                    "plot_bgcolor": "#E5ECF6",
                    "polar": {
                      "angularaxis": {
                        "gridcolor": "white",
                        "linecolor": "white",
                        "ticks": ""
                      },
                      "bgcolor": "#E5ECF6",
                      "radialaxis": {
                        "gridcolor": "white",
                        "linecolor": "white",
                        "ticks": ""
                      }
                    },
                    "scene": {
                      "xaxis": {
                        "backgroundcolor": "#E5ECF6",
                        "gridcolor": "white",
                        "gridwidth": 2,
                        "linecolor": "white",
                        "showbackground": true,
                        "ticks": "",
                        "zerolinecolor": "white"
                      },
                      "yaxis": {
                        "backgroundcolor": "#E5ECF6",
                        "gridcolor": "white",
                        "gridwidth": 2,
                        "linecolor": "white",
                        "showbackground": true,
                        "ticks": "",
                        "zerolinecolor": "white"
                      },
                      "zaxis": {
                        "backgroundcolor": "#E5ECF6",
                        "gridcolor": "white",
                        "gridwidth": 2,
                        "linecolor": "white",
                        "showbackground": true,
                        "ticks": "",
                        "zerolinecolor": "white"
                      }
                    },
                    "shapedefaults": {
                      "line": {
                        "color": "#2a3f5f"
                      }
                    },
                    "ternary": {
                      "aaxis": {
                        "gridcolor": "white",
                        "linecolor": "white",
                        "ticks": ""
                      },
                      "baxis": {
                        "gridcolor": "white",
                        "linecolor": "white",
                        "ticks": ""
                      },
                      "bgcolor": "#E5ECF6",
                      "caxis": {
                        "gridcolor": "white",
                        "linecolor": "white",
                        "ticks": ""
                      }
                    },
                    "title": {
                      "x": 0.05
                    },
                    "xaxis": {
                      "automargin": true,
                      "gridcolor": "white",
                      "linecolor": "white",
                      "ticks": "",
                      "title": {
                        "standoff": 15
                      },
                      "zerolinecolor": "white",
                      "zerolinewidth": 2
                    },
                    "yaxis": {
                      "automargin": true,
                      "gridcolor": "white",
                      "linecolor": "white",
                      "ticks": "",
                      "title": {
                        "standoff": 15
                      },
                      "zerolinecolor": "white",
                      "zerolinewidth": 2
                    }
                  }
                },
                "title": {
                  "text": "Macierz korelacji atrybutów"
                },
                "xaxis": {
                  "anchor": "y",
                  "constrain": "domain",
                  "domain": [
                    0,
                    1
                  ],
                  "scaleanchor": "y"
                },
                "yaxis": {
                  "anchor": "x",
                  "autorange": "reversed",
                  "constrain": "domain",
                  "domain": [
                    0,
                    1
                  ]
                }
              }
            }
          },
          "metadata": {},
          "output_type": "display_data"
        }
      ],
      "source": [
        "px.imshow(df.corr(),title=\"Macierz korelacji atrybutów\")"
      ]
    },
    {
      "cell_type": "code",
      "execution_count": 316,
      "metadata": {
        "colab": {
          "base_uri": "https://localhost:8080/",
          "height": 768
        },
        "id": "pCfmCycFUNAW",
        "outputId": "f27baa6a-63cc-4871-f34a-d0a4fb4a62bc"
      },
      "outputs": [
        {
          "data": {
            "text/html": [
              "<div>\n",
              "<style scoped>\n",
              "    .dataframe tbody tr th:only-of-type {\n",
              "        vertical-align: middle;\n",
              "    }\n",
              "\n",
              "    .dataframe tbody tr th {\n",
              "        vertical-align: top;\n",
              "    }\n",
              "\n",
              "    .dataframe thead th {\n",
              "        text-align: right;\n",
              "    }\n",
              "</style>\n",
              "<table border=\"1\" class=\"dataframe\">\n",
              "  <thead>\n",
              "    <tr style=\"text-align: right;\">\n",
              "      <th></th>\n",
              "      <th>USMER</th>\n",
              "      <th>MEDICAL_UNIT</th>\n",
              "      <th>SEX</th>\n",
              "      <th>PATIENT_TYPE</th>\n",
              "      <th>INTUBED</th>\n",
              "      <th>PNEUMONIA</th>\n",
              "      <th>AGE</th>\n",
              "      <th>PREGNANT</th>\n",
              "      <th>DIABETES</th>\n",
              "      <th>COPD</th>\n",
              "      <th>ASTHMA</th>\n",
              "      <th>INMSUPR</th>\n",
              "      <th>HIPERTENSION</th>\n",
              "      <th>OTHER_DISEASE</th>\n",
              "      <th>CARDIOVASCULAR</th>\n",
              "      <th>OBESITY</th>\n",
              "      <th>RENAL_CHRONIC</th>\n",
              "      <th>TOBACCO</th>\n",
              "      <th>CLASIFFICATION_FINAL</th>\n",
              "      <th>ICU</th>\n",
              "    </tr>\n",
              "  </thead>\n",
              "  <tbody>\n",
              "    <tr>\n",
              "      <th>USMER</th>\n",
              "      <td>1.000000</td>\n",
              "      <td>0.127927</td>\n",
              "      <td>-0.001126</td>\n",
              "      <td>-0.190570</td>\n",
              "      <td>0.175457</td>\n",
              "      <td>-0.154950</td>\n",
              "      <td>-0.045088</td>\n",
              "      <td>-0.001469</td>\n",
              "      <td>0.014704</td>\n",
              "      <td>0.011030</td>\n",
              "      <td>0.010814</td>\n",
              "      <td>0.003234</td>\n",
              "      <td>0.014830</td>\n",
              "      <td>-0.015763</td>\n",
              "      <td>0.010097</td>\n",
              "      <td>0.014567</td>\n",
              "      <td>0.011527</td>\n",
              "      <td>0.010638</td>\n",
              "      <td>0.028840</td>\n",
              "      <td>0.174901</td>\n",
              "    </tr>\n",
              "    <tr>\n",
              "      <th>MEDICAL_UNIT</th>\n",
              "      <td>0.127927</td>\n",
              "      <td>1.000000</td>\n",
              "      <td>0.001475</td>\n",
              "      <td>-0.205413</td>\n",
              "      <td>0.205243</td>\n",
              "      <td>-0.046433</td>\n",
              "      <td>-0.082223</td>\n",
              "      <td>0.005300</td>\n",
              "      <td>0.019523</td>\n",
              "      <td>0.014209</td>\n",
              "      <td>0.013312</td>\n",
              "      <td>0.011785</td>\n",
              "      <td>0.020964</td>\n",
              "      <td>0.027453</td>\n",
              "      <td>0.014406</td>\n",
              "      <td>0.019577</td>\n",
              "      <td>0.014751</td>\n",
              "      <td>0.012282</td>\n",
              "      <td>0.079981</td>\n",
              "      <td>0.205141</td>\n",
              "    </tr>\n",
              "    <tr>\n",
              "      <th>SEX</th>\n",
              "      <td>-0.001126</td>\n",
              "      <td>0.001475</td>\n",
              "      <td>1.000000</td>\n",
              "      <td>0.089505</td>\n",
              "      <td>-0.089943</td>\n",
              "      <td>-0.012131</td>\n",
              "      <td>0.028367</td>\n",
              "      <td>0.992713</td>\n",
              "      <td>0.008888</td>\n",
              "      <td>0.009372</td>\n",
              "      <td>0.010415</td>\n",
              "      <td>0.007999</td>\n",
              "      <td>0.009257</td>\n",
              "      <td>0.009039</td>\n",
              "      <td>0.008174</td>\n",
              "      <td>0.009858</td>\n",
              "      <td>0.008249</td>\n",
              "      <td>0.004919</td>\n",
              "      <td>-0.057782</td>\n",
              "      <td>-0.089844</td>\n",
              "    </tr>\n",
              "    <tr>\n",
              "      <th>PATIENT_TYPE</th>\n",
              "      <td>-0.190570</td>\n",
              "      <td>-0.205413</td>\n",
              "      <td>0.089505</td>\n",
              "      <td>1.000000</td>\n",
              "      <td>-0.976335</td>\n",
              "      <td>0.022966</td>\n",
              "      <td>0.315193</td>\n",
              "      <td>0.088340</td>\n",
              "      <td>0.008743</td>\n",
              "      <td>0.019548</td>\n",
              "      <td>0.023042</td>\n",
              "      <td>0.024924</td>\n",
              "      <td>0.006852</td>\n",
              "      <td>0.036724</td>\n",
              "      <td>0.022175</td>\n",
              "      <td>0.019650</td>\n",
              "      <td>0.018873</td>\n",
              "      <td>0.022123</td>\n",
              "      <td>-0.183370</td>\n",
              "      <td>-0.975810</td>\n",
              "    </tr>\n",
              "    <tr>\n",
              "      <th>INTUBED</th>\n",
              "      <td>0.175457</td>\n",
              "      <td>0.205243</td>\n",
              "      <td>-0.089943</td>\n",
              "      <td>-0.976335</td>\n",
              "      <td>1.000000</td>\n",
              "      <td>0.079743</td>\n",
              "      <td>-0.317945</td>\n",
              "      <td>-0.088097</td>\n",
              "      <td>-0.009215</td>\n",
              "      <td>-0.020124</td>\n",
              "      <td>-0.023446</td>\n",
              "      <td>-0.024140</td>\n",
              "      <td>-0.007628</td>\n",
              "      <td>-0.035404</td>\n",
              "      <td>-0.022442</td>\n",
              "      <td>-0.020217</td>\n",
              "      <td>-0.019309</td>\n",
              "      <td>-0.022428</td>\n",
              "      <td>0.193075</td>\n",
              "      <td>0.999434</td>\n",
              "    </tr>\n",
              "    <tr>\n",
              "      <th>PNEUMONIA</th>\n",
              "      <td>-0.154950</td>\n",
              "      <td>-0.046433</td>\n",
              "      <td>-0.012131</td>\n",
              "      <td>0.022966</td>\n",
              "      <td>0.079743</td>\n",
              "      <td>1.000000</td>\n",
              "      <td>-0.073127</td>\n",
              "      <td>-0.007284</td>\n",
              "      <td>-0.004484</td>\n",
              "      <td>-0.005618</td>\n",
              "      <td>-0.005392</td>\n",
              "      <td>-0.000802</td>\n",
              "      <td>-0.004799</td>\n",
              "      <td>0.001612</td>\n",
              "      <td>-0.004758</td>\n",
              "      <td>-0.004276</td>\n",
              "      <td>-0.005287</td>\n",
              "      <td>-0.004325</td>\n",
              "      <td>0.075351</td>\n",
              "      <td>0.079691</td>\n",
              "    </tr>\n",
              "    <tr>\n",
              "      <th>AGE</th>\n",
              "      <td>-0.045088</td>\n",
              "      <td>-0.082223</td>\n",
              "      <td>0.028367</td>\n",
              "      <td>0.315193</td>\n",
              "      <td>-0.317945</td>\n",
              "      <td>-0.073127</td>\n",
              "      <td>1.000000</td>\n",
              "      <td>0.027257</td>\n",
              "      <td>0.004422</td>\n",
              "      <td>0.019048</td>\n",
              "      <td>0.022715</td>\n",
              "      <td>0.022820</td>\n",
              "      <td>-0.004964</td>\n",
              "      <td>0.022837</td>\n",
              "      <td>0.019489</td>\n",
              "      <td>0.015500</td>\n",
              "      <td>0.020124</td>\n",
              "      <td>0.021263</td>\n",
              "      <td>-0.152637</td>\n",
              "      <td>-0.317813</td>\n",
              "    </tr>\n",
              "    <tr>\n",
              "      <th>PREGNANT</th>\n",
              "      <td>-0.001469</td>\n",
              "      <td>0.005300</td>\n",
              "      <td>0.992713</td>\n",
              "      <td>0.088340</td>\n",
              "      <td>-0.088097</td>\n",
              "      <td>-0.007284</td>\n",
              "      <td>0.027257</td>\n",
              "      <td>1.000000</td>\n",
              "      <td>0.014707</td>\n",
              "      <td>0.015736</td>\n",
              "      <td>0.016765</td>\n",
              "      <td>0.014265</td>\n",
              "      <td>0.015335</td>\n",
              "      <td>0.014175</td>\n",
              "      <td>0.014378</td>\n",
              "      <td>0.015895</td>\n",
              "      <td>0.014392</td>\n",
              "      <td>0.010794</td>\n",
              "      <td>-0.057809</td>\n",
              "      <td>-0.087991</td>\n",
              "    </tr>\n",
              "    <tr>\n",
              "      <th>DIABETES</th>\n",
              "      <td>0.014704</td>\n",
              "      <td>0.019523</td>\n",
              "      <td>0.008888</td>\n",
              "      <td>0.008743</td>\n",
              "      <td>-0.009215</td>\n",
              "      <td>-0.004484</td>\n",
              "      <td>0.004422</td>\n",
              "      <td>0.014707</td>\n",
              "      <td>1.000000</td>\n",
              "      <td>0.828823</td>\n",
              "      <td>0.829349</td>\n",
              "      <td>0.781108</td>\n",
              "      <td>0.835018</td>\n",
              "      <td>0.634611</td>\n",
              "      <td>0.809417</td>\n",
              "      <td>0.752739</td>\n",
              "      <td>0.812657</td>\n",
              "      <td>0.771763</td>\n",
              "      <td>-0.004739</td>\n",
              "      <td>-0.009223</td>\n",
              "    </tr>\n",
              "    <tr>\n",
              "      <th>COPD</th>\n",
              "      <td>0.011030</td>\n",
              "      <td>0.014209</td>\n",
              "      <td>0.009372</td>\n",
              "      <td>0.019548</td>\n",
              "      <td>-0.020124</td>\n",
              "      <td>-0.005618</td>\n",
              "      <td>0.019048</td>\n",
              "      <td>0.015736</td>\n",
              "      <td>0.828823</td>\n",
              "      <td>1.000000</td>\n",
              "      <td>0.908929</td>\n",
              "      <td>0.852273</td>\n",
              "      <td>0.855249</td>\n",
              "      <td>0.687323</td>\n",
              "      <td>0.880097</td>\n",
              "      <td>0.814868</td>\n",
              "      <td>0.884032</td>\n",
              "      <td>0.836097</td>\n",
              "      <td>-0.010336</td>\n",
              "      <td>-0.020146</td>\n",
              "    </tr>\n",
              "    <tr>\n",
              "      <th>ASTHMA</th>\n",
              "      <td>0.010814</td>\n",
              "      <td>0.013312</td>\n",
              "      <td>0.010415</td>\n",
              "      <td>0.023042</td>\n",
              "      <td>-0.023446</td>\n",
              "      <td>-0.005392</td>\n",
              "      <td>0.022715</td>\n",
              "      <td>0.016765</td>\n",
              "      <td>0.829349</td>\n",
              "      <td>0.908929</td>\n",
              "      <td>1.000000</td>\n",
              "      <td>0.868917</td>\n",
              "      <td>0.864264</td>\n",
              "      <td>0.696709</td>\n",
              "      <td>0.891026</td>\n",
              "      <td>0.824631</td>\n",
              "      <td>0.895050</td>\n",
              "      <td>0.845067</td>\n",
              "      <td>-0.011178</td>\n",
              "      <td>-0.023415</td>\n",
              "    </tr>\n",
              "    <tr>\n",
              "      <th>INMSUPR</th>\n",
              "      <td>0.003234</td>\n",
              "      <td>0.011785</td>\n",
              "      <td>0.007999</td>\n",
              "      <td>0.024924</td>\n",
              "      <td>-0.024140</td>\n",
              "      <td>-0.000802</td>\n",
              "      <td>0.022820</td>\n",
              "      <td>0.014265</td>\n",
              "      <td>0.781108</td>\n",
              "      <td>0.852273</td>\n",
              "      <td>0.868917</td>\n",
              "      <td>1.000000</td>\n",
              "      <td>0.825158</td>\n",
              "      <td>0.734826</td>\n",
              "      <td>0.853365</td>\n",
              "      <td>0.783953</td>\n",
              "      <td>0.852755</td>\n",
              "      <td>0.806749</td>\n",
              "      <td>-0.009412</td>\n",
              "      <td>-0.024077</td>\n",
              "    </tr>\n",
              "    <tr>\n",
              "      <th>HIPERTENSION</th>\n",
              "      <td>0.014830</td>\n",
              "      <td>0.020964</td>\n",
              "      <td>0.009257</td>\n",
              "      <td>0.006852</td>\n",
              "      <td>-0.007628</td>\n",
              "      <td>-0.004799</td>\n",
              "      <td>-0.004964</td>\n",
              "      <td>0.015335</td>\n",
              "      <td>0.835018</td>\n",
              "      <td>0.855249</td>\n",
              "      <td>0.864264</td>\n",
              "      <td>0.825158</td>\n",
              "      <td>1.000000</td>\n",
              "      <td>0.671532</td>\n",
              "      <td>0.861063</td>\n",
              "      <td>0.805127</td>\n",
              "      <td>0.860477</td>\n",
              "      <td>0.816539</td>\n",
              "      <td>-0.006020</td>\n",
              "      <td>-0.007573</td>\n",
              "    </tr>\n",
              "    <tr>\n",
              "      <th>OTHER_DISEASE</th>\n",
              "      <td>-0.015763</td>\n",
              "      <td>0.027453</td>\n",
              "      <td>0.009039</td>\n",
              "      <td>0.036724</td>\n",
              "      <td>-0.035404</td>\n",
              "      <td>0.001612</td>\n",
              "      <td>0.022837</td>\n",
              "      <td>0.014175</td>\n",
              "      <td>0.634611</td>\n",
              "      <td>0.687323</td>\n",
              "      <td>0.696709</td>\n",
              "      <td>0.734826</td>\n",
              "      <td>0.671532</td>\n",
              "      <td>1.000000</td>\n",
              "      <td>0.717129</td>\n",
              "      <td>0.649809</td>\n",
              "      <td>0.704725</td>\n",
              "      <td>0.668621</td>\n",
              "      <td>-0.011143</td>\n",
              "      <td>-0.035330</td>\n",
              "    </tr>\n",
              "    <tr>\n",
              "      <th>CARDIOVASCULAR</th>\n",
              "      <td>0.010097</td>\n",
              "      <td>0.014406</td>\n",
              "      <td>0.008174</td>\n",
              "      <td>0.022175</td>\n",
              "      <td>-0.022442</td>\n",
              "      <td>-0.004758</td>\n",
              "      <td>0.019489</td>\n",
              "      <td>0.014378</td>\n",
              "      <td>0.809417</td>\n",
              "      <td>0.880097</td>\n",
              "      <td>0.891026</td>\n",
              "      <td>0.853365</td>\n",
              "      <td>0.861063</td>\n",
              "      <td>0.717129</td>\n",
              "      <td>1.000000</td>\n",
              "      <td>0.834389</td>\n",
              "      <td>0.913248</td>\n",
              "      <td>0.858102</td>\n",
              "      <td>-0.012143</td>\n",
              "      <td>-0.022413</td>\n",
              "    </tr>\n",
              "    <tr>\n",
              "      <th>OBESITY</th>\n",
              "      <td>0.014567</td>\n",
              "      <td>0.019577</td>\n",
              "      <td>0.009858</td>\n",
              "      <td>0.019650</td>\n",
              "      <td>-0.020217</td>\n",
              "      <td>-0.004276</td>\n",
              "      <td>0.015500</td>\n",
              "      <td>0.015895</td>\n",
              "      <td>0.752739</td>\n",
              "      <td>0.814868</td>\n",
              "      <td>0.824631</td>\n",
              "      <td>0.783953</td>\n",
              "      <td>0.805127</td>\n",
              "      <td>0.649809</td>\n",
              "      <td>0.834389</td>\n",
              "      <td>1.000000</td>\n",
              "      <td>0.842466</td>\n",
              "      <td>0.801834</td>\n",
              "      <td>-0.006924</td>\n",
              "      <td>-0.020254</td>\n",
              "    </tr>\n",
              "    <tr>\n",
              "      <th>RENAL_CHRONIC</th>\n",
              "      <td>0.011527</td>\n",
              "      <td>0.014751</td>\n",
              "      <td>0.008249</td>\n",
              "      <td>0.018873</td>\n",
              "      <td>-0.019309</td>\n",
              "      <td>-0.005287</td>\n",
              "      <td>0.020124</td>\n",
              "      <td>0.014392</td>\n",
              "      <td>0.812657</td>\n",
              "      <td>0.884032</td>\n",
              "      <td>0.895050</td>\n",
              "      <td>0.852755</td>\n",
              "      <td>0.860477</td>\n",
              "      <td>0.704725</td>\n",
              "      <td>0.913248</td>\n",
              "      <td>0.842466</td>\n",
              "      <td>1.000000</td>\n",
              "      <td>0.868761</td>\n",
              "      <td>-0.011342</td>\n",
              "      <td>-0.019285</td>\n",
              "    </tr>\n",
              "    <tr>\n",
              "      <th>TOBACCO</th>\n",
              "      <td>0.010638</td>\n",
              "      <td>0.012282</td>\n",
              "      <td>0.004919</td>\n",
              "      <td>0.022123</td>\n",
              "      <td>-0.022428</td>\n",
              "      <td>-0.004325</td>\n",
              "      <td>0.021263</td>\n",
              "      <td>0.010794</td>\n",
              "      <td>0.771763</td>\n",
              "      <td>0.836097</td>\n",
              "      <td>0.845067</td>\n",
              "      <td>0.806749</td>\n",
              "      <td>0.816539</td>\n",
              "      <td>0.668621</td>\n",
              "      <td>0.858102</td>\n",
              "      <td>0.801834</td>\n",
              "      <td>0.868761</td>\n",
              "      <td>1.000000</td>\n",
              "      <td>-0.012567</td>\n",
              "      <td>-0.022445</td>\n",
              "    </tr>\n",
              "    <tr>\n",
              "      <th>CLASIFFICATION_FINAL</th>\n",
              "      <td>0.028840</td>\n",
              "      <td>0.079981</td>\n",
              "      <td>-0.057782</td>\n",
              "      <td>-0.183370</td>\n",
              "      <td>0.193075</td>\n",
              "      <td>0.075351</td>\n",
              "      <td>-0.152637</td>\n",
              "      <td>-0.057809</td>\n",
              "      <td>-0.004739</td>\n",
              "      <td>-0.010336</td>\n",
              "      <td>-0.011178</td>\n",
              "      <td>-0.009412</td>\n",
              "      <td>-0.006020</td>\n",
              "      <td>-0.011143</td>\n",
              "      <td>-0.012143</td>\n",
              "      <td>-0.006924</td>\n",
              "      <td>-0.011342</td>\n",
              "      <td>-0.012567</td>\n",
              "      <td>1.000000</td>\n",
              "      <td>0.193163</td>\n",
              "    </tr>\n",
              "    <tr>\n",
              "      <th>ICU</th>\n",
              "      <td>0.174901</td>\n",
              "      <td>0.205141</td>\n",
              "      <td>-0.089844</td>\n",
              "      <td>-0.975810</td>\n",
              "      <td>0.999434</td>\n",
              "      <td>0.079691</td>\n",
              "      <td>-0.317813</td>\n",
              "      <td>-0.087991</td>\n",
              "      <td>-0.009223</td>\n",
              "      <td>-0.020146</td>\n",
              "      <td>-0.023415</td>\n",
              "      <td>-0.024077</td>\n",
              "      <td>-0.007573</td>\n",
              "      <td>-0.035330</td>\n",
              "      <td>-0.022413</td>\n",
              "      <td>-0.020254</td>\n",
              "      <td>-0.019285</td>\n",
              "      <td>-0.022445</td>\n",
              "      <td>0.193163</td>\n",
              "      <td>1.000000</td>\n",
              "    </tr>\n",
              "  </tbody>\n",
              "</table>\n",
              "</div>"
            ],
            "text/plain": [
              "                         USMER  MEDICAL_UNIT       SEX  PATIENT_TYPE  \\\n",
              "USMER                 1.000000      0.127927 -0.001126     -0.190570   \n",
              "MEDICAL_UNIT          0.127927      1.000000  0.001475     -0.205413   \n",
              "SEX                  -0.001126      0.001475  1.000000      0.089505   \n",
              "PATIENT_TYPE         -0.190570     -0.205413  0.089505      1.000000   \n",
              "INTUBED               0.175457      0.205243 -0.089943     -0.976335   \n",
              "PNEUMONIA            -0.154950     -0.046433 -0.012131      0.022966   \n",
              "AGE                  -0.045088     -0.082223  0.028367      0.315193   \n",
              "PREGNANT             -0.001469      0.005300  0.992713      0.088340   \n",
              "DIABETES              0.014704      0.019523  0.008888      0.008743   \n",
              "COPD                  0.011030      0.014209  0.009372      0.019548   \n",
              "ASTHMA                0.010814      0.013312  0.010415      0.023042   \n",
              "INMSUPR               0.003234      0.011785  0.007999      0.024924   \n",
              "HIPERTENSION          0.014830      0.020964  0.009257      0.006852   \n",
              "OTHER_DISEASE        -0.015763      0.027453  0.009039      0.036724   \n",
              "CARDIOVASCULAR        0.010097      0.014406  0.008174      0.022175   \n",
              "OBESITY               0.014567      0.019577  0.009858      0.019650   \n",
              "RENAL_CHRONIC         0.011527      0.014751  0.008249      0.018873   \n",
              "TOBACCO               0.010638      0.012282  0.004919      0.022123   \n",
              "CLASIFFICATION_FINAL  0.028840      0.079981 -0.057782     -0.183370   \n",
              "ICU                   0.174901      0.205141 -0.089844     -0.975810   \n",
              "\n",
              "                       INTUBED  PNEUMONIA       AGE  PREGNANT  DIABETES  \\\n",
              "USMER                 0.175457  -0.154950 -0.045088 -0.001469  0.014704   \n",
              "MEDICAL_UNIT          0.205243  -0.046433 -0.082223  0.005300  0.019523   \n",
              "SEX                  -0.089943  -0.012131  0.028367  0.992713  0.008888   \n",
              "PATIENT_TYPE         -0.976335   0.022966  0.315193  0.088340  0.008743   \n",
              "INTUBED               1.000000   0.079743 -0.317945 -0.088097 -0.009215   \n",
              "PNEUMONIA             0.079743   1.000000 -0.073127 -0.007284 -0.004484   \n",
              "AGE                  -0.317945  -0.073127  1.000000  0.027257  0.004422   \n",
              "PREGNANT             -0.088097  -0.007284  0.027257  1.000000  0.014707   \n",
              "DIABETES             -0.009215  -0.004484  0.004422  0.014707  1.000000   \n",
              "COPD                 -0.020124  -0.005618  0.019048  0.015736  0.828823   \n",
              "ASTHMA               -0.023446  -0.005392  0.022715  0.016765  0.829349   \n",
              "INMSUPR              -0.024140  -0.000802  0.022820  0.014265  0.781108   \n",
              "HIPERTENSION         -0.007628  -0.004799 -0.004964  0.015335  0.835018   \n",
              "OTHER_DISEASE        -0.035404   0.001612  0.022837  0.014175  0.634611   \n",
              "CARDIOVASCULAR       -0.022442  -0.004758  0.019489  0.014378  0.809417   \n",
              "OBESITY              -0.020217  -0.004276  0.015500  0.015895  0.752739   \n",
              "RENAL_CHRONIC        -0.019309  -0.005287  0.020124  0.014392  0.812657   \n",
              "TOBACCO              -0.022428  -0.004325  0.021263  0.010794  0.771763   \n",
              "CLASIFFICATION_FINAL  0.193075   0.075351 -0.152637 -0.057809 -0.004739   \n",
              "ICU                   0.999434   0.079691 -0.317813 -0.087991 -0.009223   \n",
              "\n",
              "                          COPD    ASTHMA   INMSUPR  HIPERTENSION  \\\n",
              "USMER                 0.011030  0.010814  0.003234      0.014830   \n",
              "MEDICAL_UNIT          0.014209  0.013312  0.011785      0.020964   \n",
              "SEX                   0.009372  0.010415  0.007999      0.009257   \n",
              "PATIENT_TYPE          0.019548  0.023042  0.024924      0.006852   \n",
              "INTUBED              -0.020124 -0.023446 -0.024140     -0.007628   \n",
              "PNEUMONIA            -0.005618 -0.005392 -0.000802     -0.004799   \n",
              "AGE                   0.019048  0.022715  0.022820     -0.004964   \n",
              "PREGNANT              0.015736  0.016765  0.014265      0.015335   \n",
              "DIABETES              0.828823  0.829349  0.781108      0.835018   \n",
              "COPD                  1.000000  0.908929  0.852273      0.855249   \n",
              "ASTHMA                0.908929  1.000000  0.868917      0.864264   \n",
              "INMSUPR               0.852273  0.868917  1.000000      0.825158   \n",
              "HIPERTENSION          0.855249  0.864264  0.825158      1.000000   \n",
              "OTHER_DISEASE         0.687323  0.696709  0.734826      0.671532   \n",
              "CARDIOVASCULAR        0.880097  0.891026  0.853365      0.861063   \n",
              "OBESITY               0.814868  0.824631  0.783953      0.805127   \n",
              "RENAL_CHRONIC         0.884032  0.895050  0.852755      0.860477   \n",
              "TOBACCO               0.836097  0.845067  0.806749      0.816539   \n",
              "CLASIFFICATION_FINAL -0.010336 -0.011178 -0.009412     -0.006020   \n",
              "ICU                  -0.020146 -0.023415 -0.024077     -0.007573   \n",
              "\n",
              "                      OTHER_DISEASE  CARDIOVASCULAR   OBESITY  RENAL_CHRONIC  \\\n",
              "USMER                     -0.015763        0.010097  0.014567       0.011527   \n",
              "MEDICAL_UNIT               0.027453        0.014406  0.019577       0.014751   \n",
              "SEX                        0.009039        0.008174  0.009858       0.008249   \n",
              "PATIENT_TYPE               0.036724        0.022175  0.019650       0.018873   \n",
              "INTUBED                   -0.035404       -0.022442 -0.020217      -0.019309   \n",
              "PNEUMONIA                  0.001612       -0.004758 -0.004276      -0.005287   \n",
              "AGE                        0.022837        0.019489  0.015500       0.020124   \n",
              "PREGNANT                   0.014175        0.014378  0.015895       0.014392   \n",
              "DIABETES                   0.634611        0.809417  0.752739       0.812657   \n",
              "COPD                       0.687323        0.880097  0.814868       0.884032   \n",
              "ASTHMA                     0.696709        0.891026  0.824631       0.895050   \n",
              "INMSUPR                    0.734826        0.853365  0.783953       0.852755   \n",
              "HIPERTENSION               0.671532        0.861063  0.805127       0.860477   \n",
              "OTHER_DISEASE              1.000000        0.717129  0.649809       0.704725   \n",
              "CARDIOVASCULAR             0.717129        1.000000  0.834389       0.913248   \n",
              "OBESITY                    0.649809        0.834389  1.000000       0.842466   \n",
              "RENAL_CHRONIC              0.704725        0.913248  0.842466       1.000000   \n",
              "TOBACCO                    0.668621        0.858102  0.801834       0.868761   \n",
              "CLASIFFICATION_FINAL      -0.011143       -0.012143 -0.006924      -0.011342   \n",
              "ICU                       -0.035330       -0.022413 -0.020254      -0.019285   \n",
              "\n",
              "                       TOBACCO  CLASIFFICATION_FINAL       ICU  \n",
              "USMER                 0.010638              0.028840  0.174901  \n",
              "MEDICAL_UNIT          0.012282              0.079981  0.205141  \n",
              "SEX                   0.004919             -0.057782 -0.089844  \n",
              "PATIENT_TYPE          0.022123             -0.183370 -0.975810  \n",
              "INTUBED              -0.022428              0.193075  0.999434  \n",
              "PNEUMONIA            -0.004325              0.075351  0.079691  \n",
              "AGE                   0.021263             -0.152637 -0.317813  \n",
              "PREGNANT              0.010794             -0.057809 -0.087991  \n",
              "DIABETES              0.771763             -0.004739 -0.009223  \n",
              "COPD                  0.836097             -0.010336 -0.020146  \n",
              "ASTHMA                0.845067             -0.011178 -0.023415  \n",
              "INMSUPR               0.806749             -0.009412 -0.024077  \n",
              "HIPERTENSION          0.816539             -0.006020 -0.007573  \n",
              "OTHER_DISEASE         0.668621             -0.011143 -0.035330  \n",
              "CARDIOVASCULAR        0.858102             -0.012143 -0.022413  \n",
              "OBESITY               0.801834             -0.006924 -0.020254  \n",
              "RENAL_CHRONIC         0.868761             -0.011342 -0.019285  \n",
              "TOBACCO               1.000000             -0.012567 -0.022445  \n",
              "CLASIFFICATION_FINAL -0.012567              1.000000  0.193163  \n",
              "ICU                  -0.022445              0.193163  1.000000  "
            ]
          },
          "execution_count": 316,
          "metadata": {},
          "output_type": "execute_result"
        }
      ],
      "source": [
        "df.corr()"
      ]
    },
    {
      "cell_type": "code",
      "execution_count": 317,
      "metadata": {
        "colab": {
          "base_uri": "https://localhost:8080/",
          "height": 320
        },
        "id": "iAUG280PUOX2",
        "outputId": "ad8c394b-46fc-498c-d540-6d188a2ef39c"
      },
      "outputs": [
        {
          "data": {
            "text/html": [
              "<div>\n",
              "<style scoped>\n",
              "    .dataframe tbody tr th:only-of-type {\n",
              "        vertical-align: middle;\n",
              "    }\n",
              "\n",
              "    .dataframe tbody tr th {\n",
              "        vertical-align: top;\n",
              "    }\n",
              "\n",
              "    .dataframe thead th {\n",
              "        text-align: right;\n",
              "    }\n",
              "</style>\n",
              "<table border=\"1\" class=\"dataframe\">\n",
              "  <thead>\n",
              "    <tr style=\"text-align: right;\">\n",
              "      <th></th>\n",
              "      <th>USMER</th>\n",
              "      <th>MEDICAL_UNIT</th>\n",
              "      <th>SEX</th>\n",
              "      <th>PATIENT_TYPE</th>\n",
              "      <th>INTUBED</th>\n",
              "      <th>PNEUMONIA</th>\n",
              "      <th>AGE</th>\n",
              "      <th>PREGNANT</th>\n",
              "      <th>DIABETES</th>\n",
              "      <th>COPD</th>\n",
              "      <th>ASTHMA</th>\n",
              "      <th>INMSUPR</th>\n",
              "      <th>HIPERTENSION</th>\n",
              "      <th>OTHER_DISEASE</th>\n",
              "      <th>CARDIOVASCULAR</th>\n",
              "      <th>OBESITY</th>\n",
              "      <th>RENAL_CHRONIC</th>\n",
              "      <th>TOBACCO</th>\n",
              "      <th>CLASIFFICATION_FINAL</th>\n",
              "      <th>ICU</th>\n",
              "    </tr>\n",
              "  </thead>\n",
              "  <tbody>\n",
              "    <tr>\n",
              "      <th>count</th>\n",
              "      <td>1.048575e+06</td>\n",
              "      <td>1.048575e+06</td>\n",
              "      <td>1.048575e+06</td>\n",
              "      <td>1.048575e+06</td>\n",
              "      <td>1.048575e+06</td>\n",
              "      <td>1.048575e+06</td>\n",
              "      <td>1.048575e+06</td>\n",
              "      <td>1.048575e+06</td>\n",
              "      <td>1.048575e+06</td>\n",
              "      <td>1.048575e+06</td>\n",
              "      <td>1.048575e+06</td>\n",
              "      <td>1.048575e+06</td>\n",
              "      <td>1.048575e+06</td>\n",
              "      <td>1.048575e+06</td>\n",
              "      <td>1.048575e+06</td>\n",
              "      <td>1.048575e+06</td>\n",
              "      <td>1.048575e+06</td>\n",
              "      <td>1.048575e+06</td>\n",
              "      <td>1.048575e+06</td>\n",
              "      <td>1.048575e+06</td>\n",
              "    </tr>\n",
              "    <tr>\n",
              "      <th>mean</th>\n",
              "      <td>1.632194e+00</td>\n",
              "      <td>8.980565e+00</td>\n",
              "      <td>1.499259e+00</td>\n",
              "      <td>1.190765e+00</td>\n",
              "      <td>7.952288e+01</td>\n",
              "      <td>3.346831e+00</td>\n",
              "      <td>4.179410e+01</td>\n",
              "      <td>4.976558e+01</td>\n",
              "      <td>2.186404e+00</td>\n",
              "      <td>2.260569e+00</td>\n",
              "      <td>2.242626e+00</td>\n",
              "      <td>2.298132e+00</td>\n",
              "      <td>2.128989e+00</td>\n",
              "      <td>2.435143e+00</td>\n",
              "      <td>2.261810e+00</td>\n",
              "      <td>2.125176e+00</td>\n",
              "      <td>2.257180e+00</td>\n",
              "      <td>2.214333e+00</td>\n",
              "      <td>5.305653e+00</td>\n",
              "      <td>7.955397e+01</td>\n",
              "    </tr>\n",
              "    <tr>\n",
              "      <th>std</th>\n",
              "      <td>4.822084e-01</td>\n",
              "      <td>3.723278e+00</td>\n",
              "      <td>4.999997e-01</td>\n",
              "      <td>3.929041e-01</td>\n",
              "      <td>3.686889e+01</td>\n",
              "      <td>1.191288e+01</td>\n",
              "      <td>1.690739e+01</td>\n",
              "      <td>4.751073e+01</td>\n",
              "      <td>5.424242e+00</td>\n",
              "      <td>5.132258e+00</td>\n",
              "      <td>5.114089e+00</td>\n",
              "      <td>5.462843e+00</td>\n",
              "      <td>5.236397e+00</td>\n",
              "      <td>6.646676e+00</td>\n",
              "      <td>5.194850e+00</td>\n",
              "      <td>5.175445e+00</td>\n",
              "      <td>5.135354e+00</td>\n",
              "      <td>5.323097e+00</td>\n",
              "      <td>1.881165e+00</td>\n",
              "      <td>3.682307e+01</td>\n",
              "    </tr>\n",
              "    <tr>\n",
              "      <th>min</th>\n",
              "      <td>1.000000e+00</td>\n",
              "      <td>1.000000e+00</td>\n",
              "      <td>1.000000e+00</td>\n",
              "      <td>1.000000e+00</td>\n",
              "      <td>1.000000e+00</td>\n",
              "      <td>1.000000e+00</td>\n",
              "      <td>0.000000e+00</td>\n",
              "      <td>1.000000e+00</td>\n",
              "      <td>1.000000e+00</td>\n",
              "      <td>1.000000e+00</td>\n",
              "      <td>1.000000e+00</td>\n",
              "      <td>1.000000e+00</td>\n",
              "      <td>1.000000e+00</td>\n",
              "      <td>1.000000e+00</td>\n",
              "      <td>1.000000e+00</td>\n",
              "      <td>1.000000e+00</td>\n",
              "      <td>1.000000e+00</td>\n",
              "      <td>1.000000e+00</td>\n",
              "      <td>1.000000e+00</td>\n",
              "      <td>1.000000e+00</td>\n",
              "    </tr>\n",
              "    <tr>\n",
              "      <th>25%</th>\n",
              "      <td>1.000000e+00</td>\n",
              "      <td>4.000000e+00</td>\n",
              "      <td>1.000000e+00</td>\n",
              "      <td>1.000000e+00</td>\n",
              "      <td>9.700000e+01</td>\n",
              "      <td>2.000000e+00</td>\n",
              "      <td>3.000000e+01</td>\n",
              "      <td>2.000000e+00</td>\n",
              "      <td>2.000000e+00</td>\n",
              "      <td>2.000000e+00</td>\n",
              "      <td>2.000000e+00</td>\n",
              "      <td>2.000000e+00</td>\n",
              "      <td>2.000000e+00</td>\n",
              "      <td>2.000000e+00</td>\n",
              "      <td>2.000000e+00</td>\n",
              "      <td>2.000000e+00</td>\n",
              "      <td>2.000000e+00</td>\n",
              "      <td>2.000000e+00</td>\n",
              "      <td>3.000000e+00</td>\n",
              "      <td>9.700000e+01</td>\n",
              "    </tr>\n",
              "    <tr>\n",
              "      <th>50%</th>\n",
              "      <td>2.000000e+00</td>\n",
              "      <td>1.200000e+01</td>\n",
              "      <td>1.000000e+00</td>\n",
              "      <td>1.000000e+00</td>\n",
              "      <td>9.700000e+01</td>\n",
              "      <td>2.000000e+00</td>\n",
              "      <td>4.000000e+01</td>\n",
              "      <td>9.700000e+01</td>\n",
              "      <td>2.000000e+00</td>\n",
              "      <td>2.000000e+00</td>\n",
              "      <td>2.000000e+00</td>\n",
              "      <td>2.000000e+00</td>\n",
              "      <td>2.000000e+00</td>\n",
              "      <td>2.000000e+00</td>\n",
              "      <td>2.000000e+00</td>\n",
              "      <td>2.000000e+00</td>\n",
              "      <td>2.000000e+00</td>\n",
              "      <td>2.000000e+00</td>\n",
              "      <td>6.000000e+00</td>\n",
              "      <td>9.700000e+01</td>\n",
              "    </tr>\n",
              "    <tr>\n",
              "      <th>75%</th>\n",
              "      <td>2.000000e+00</td>\n",
              "      <td>1.200000e+01</td>\n",
              "      <td>2.000000e+00</td>\n",
              "      <td>1.000000e+00</td>\n",
              "      <td>9.700000e+01</td>\n",
              "      <td>2.000000e+00</td>\n",
              "      <td>5.300000e+01</td>\n",
              "      <td>9.700000e+01</td>\n",
              "      <td>2.000000e+00</td>\n",
              "      <td>2.000000e+00</td>\n",
              "      <td>2.000000e+00</td>\n",
              "      <td>2.000000e+00</td>\n",
              "      <td>2.000000e+00</td>\n",
              "      <td>2.000000e+00</td>\n",
              "      <td>2.000000e+00</td>\n",
              "      <td>2.000000e+00</td>\n",
              "      <td>2.000000e+00</td>\n",
              "      <td>2.000000e+00</td>\n",
              "      <td>7.000000e+00</td>\n",
              "      <td>9.700000e+01</td>\n",
              "    </tr>\n",
              "    <tr>\n",
              "      <th>max</th>\n",
              "      <td>2.000000e+00</td>\n",
              "      <td>1.300000e+01</td>\n",
              "      <td>2.000000e+00</td>\n",
              "      <td>2.000000e+00</td>\n",
              "      <td>9.900000e+01</td>\n",
              "      <td>9.900000e+01</td>\n",
              "      <td>1.210000e+02</td>\n",
              "      <td>9.800000e+01</td>\n",
              "      <td>9.800000e+01</td>\n",
              "      <td>9.800000e+01</td>\n",
              "      <td>9.800000e+01</td>\n",
              "      <td>9.800000e+01</td>\n",
              "      <td>9.800000e+01</td>\n",
              "      <td>9.800000e+01</td>\n",
              "      <td>9.800000e+01</td>\n",
              "      <td>9.800000e+01</td>\n",
              "      <td>9.800000e+01</td>\n",
              "      <td>9.800000e+01</td>\n",
              "      <td>7.000000e+00</td>\n",
              "      <td>9.900000e+01</td>\n",
              "    </tr>\n",
              "  </tbody>\n",
              "</table>\n",
              "</div>"
            ],
            "text/plain": [
              "              USMER  MEDICAL_UNIT           SEX  PATIENT_TYPE       INTUBED  \\\n",
              "count  1.048575e+06  1.048575e+06  1.048575e+06  1.048575e+06  1.048575e+06   \n",
              "mean   1.632194e+00  8.980565e+00  1.499259e+00  1.190765e+00  7.952288e+01   \n",
              "std    4.822084e-01  3.723278e+00  4.999997e-01  3.929041e-01  3.686889e+01   \n",
              "min    1.000000e+00  1.000000e+00  1.000000e+00  1.000000e+00  1.000000e+00   \n",
              "25%    1.000000e+00  4.000000e+00  1.000000e+00  1.000000e+00  9.700000e+01   \n",
              "50%    2.000000e+00  1.200000e+01  1.000000e+00  1.000000e+00  9.700000e+01   \n",
              "75%    2.000000e+00  1.200000e+01  2.000000e+00  1.000000e+00  9.700000e+01   \n",
              "max    2.000000e+00  1.300000e+01  2.000000e+00  2.000000e+00  9.900000e+01   \n",
              "\n",
              "          PNEUMONIA           AGE      PREGNANT      DIABETES          COPD  \\\n",
              "count  1.048575e+06  1.048575e+06  1.048575e+06  1.048575e+06  1.048575e+06   \n",
              "mean   3.346831e+00  4.179410e+01  4.976558e+01  2.186404e+00  2.260569e+00   \n",
              "std    1.191288e+01  1.690739e+01  4.751073e+01  5.424242e+00  5.132258e+00   \n",
              "min    1.000000e+00  0.000000e+00  1.000000e+00  1.000000e+00  1.000000e+00   \n",
              "25%    2.000000e+00  3.000000e+01  2.000000e+00  2.000000e+00  2.000000e+00   \n",
              "50%    2.000000e+00  4.000000e+01  9.700000e+01  2.000000e+00  2.000000e+00   \n",
              "75%    2.000000e+00  5.300000e+01  9.700000e+01  2.000000e+00  2.000000e+00   \n",
              "max    9.900000e+01  1.210000e+02  9.800000e+01  9.800000e+01  9.800000e+01   \n",
              "\n",
              "             ASTHMA       INMSUPR  HIPERTENSION  OTHER_DISEASE  \\\n",
              "count  1.048575e+06  1.048575e+06  1.048575e+06   1.048575e+06   \n",
              "mean   2.242626e+00  2.298132e+00  2.128989e+00   2.435143e+00   \n",
              "std    5.114089e+00  5.462843e+00  5.236397e+00   6.646676e+00   \n",
              "min    1.000000e+00  1.000000e+00  1.000000e+00   1.000000e+00   \n",
              "25%    2.000000e+00  2.000000e+00  2.000000e+00   2.000000e+00   \n",
              "50%    2.000000e+00  2.000000e+00  2.000000e+00   2.000000e+00   \n",
              "75%    2.000000e+00  2.000000e+00  2.000000e+00   2.000000e+00   \n",
              "max    9.800000e+01  9.800000e+01  9.800000e+01   9.800000e+01   \n",
              "\n",
              "       CARDIOVASCULAR       OBESITY  RENAL_CHRONIC       TOBACCO  \\\n",
              "count    1.048575e+06  1.048575e+06   1.048575e+06  1.048575e+06   \n",
              "mean     2.261810e+00  2.125176e+00   2.257180e+00  2.214333e+00   \n",
              "std      5.194850e+00  5.175445e+00   5.135354e+00  5.323097e+00   \n",
              "min      1.000000e+00  1.000000e+00   1.000000e+00  1.000000e+00   \n",
              "25%      2.000000e+00  2.000000e+00   2.000000e+00  2.000000e+00   \n",
              "50%      2.000000e+00  2.000000e+00   2.000000e+00  2.000000e+00   \n",
              "75%      2.000000e+00  2.000000e+00   2.000000e+00  2.000000e+00   \n",
              "max      9.800000e+01  9.800000e+01   9.800000e+01  9.800000e+01   \n",
              "\n",
              "       CLASIFFICATION_FINAL           ICU  \n",
              "count          1.048575e+06  1.048575e+06  \n",
              "mean           5.305653e+00  7.955397e+01  \n",
              "std            1.881165e+00  3.682307e+01  \n",
              "min            1.000000e+00  1.000000e+00  \n",
              "25%            3.000000e+00  9.700000e+01  \n",
              "50%            6.000000e+00  9.700000e+01  \n",
              "75%            7.000000e+00  9.700000e+01  \n",
              "max            7.000000e+00  9.900000e+01  "
            ]
          },
          "execution_count": 317,
          "metadata": {},
          "output_type": "execute_result"
        }
      ],
      "source": [
        "df.describe()"
      ]
    },
    {
      "cell_type": "markdown",
      "metadata": {
        "id": "qtAXyN2q3VMT"
      },
      "source": [
        "#Edycja bazy danych\n"
      ]
    },
    {
      "cell_type": "markdown",
      "metadata": {
        "id": "uDt-Y6dDP1yF"
      },
      "source": [
        "##Sprecyzowanie zbioru danych"
      ]
    },
    {
      "cell_type": "code",
      "execution_count": 318,
      "metadata": {
        "id": "qCtIzVDTP2ZZ"
      },
      "outputs": [],
      "source": [
        "df = df[df['CLASIFFICATION_FINAL'] < 4]"
      ]
    },
    {
      "cell_type": "markdown",
      "metadata": {
        "id": "JEvVIY8SJ1VB"
      },
      "source": [
        "##Usunięcie wybranych brakujących danych z zbioru danych"
      ]
    },
    {
      "cell_type": "code",
      "execution_count": 319,
      "metadata": {
        "colab": {
          "base_uri": "https://localhost:8080/"
        },
        "id": "jokpY2uMHpFX",
        "outputId": "8ca07ae4-e3aa-48b9-c437-cdc7d3a45753"
      },
      "outputs": [
        {
          "data": {
            "text/markdown": [
              "| Column | Sum of Missing |\n",
              "|---|---|\n",
              "| TOBACCO | 1434 |\n",
              "| RENAL_CHRONIC | 1350 |\n",
              "| OBESITY | 1353 |\n",
              "| CARDIOVASCULAR | 1391 |\n",
              "| OTHER_DISEASE | 2136 |\n",
              "| HIPERTENSION | 1388 |\n",
              "| INMSUPR | 1449 |\n",
              "| ASTHMA | 1309 |\n",
              "| COPD | 1313 |\n",
              "| DIABETES | 1440 |\n",
              "| PNEUMONIA | 4 |"
            ],
            "text/plain": [
              "<IPython.core.display.Markdown object>"
            ]
          },
          "metadata": {},
          "output_type": "display_data"
        }
      ],
      "source": [
        "columns_to_check = ['TOBACCO', 'RENAL_CHRONIC', 'OBESITY', 'CARDIOVASCULAR', 'OTHER_DISEASE',\n",
        "                     'HIPERTENSION', 'INMSUPR', 'ASTHMA', 'COPD', 'DIABETES', 'PNEUMONIA']\n",
        "\n",
        "df[columns_to_check] = df[columns_to_check].replace({97: np.nan, 98: np.nan, 99: np.nan})\n",
        "missing_values = df[columns_to_check].isnull().sum()\n",
        "\n",
        "headers = [\"Column\", \"Sum of Missing\"]\n",
        "table = f\"| {' | '.join(headers)} |\\n|{'|'.join(['---']*len(headers))}|\\n\"\n",
        "table += '\\n'.join([f\"| {col} | {val} |\" for col, val in missing_values.items()])\n",
        "\n",
        "display(Markdown(table))"
      ]
    },
    {
      "cell_type": "code",
      "execution_count": 320,
      "metadata": {
        "id": "Qv9-P3_vQXvN"
      },
      "outputs": [],
      "source": [
        "condition = df[columns_to_check].notna().all(axis=1)\n",
        "\n",
        "df = df[condition]"
      ]
    },
    {
      "cell_type": "markdown",
      "metadata": {
        "id": "jNlb_89CUxnt"
      },
      "source": [
        "###Precyzyjne usunięcie danych dla brakujących danych w kolumnie 'PREGNANT'"
      ]
    },
    {
      "cell_type": "code",
      "execution_count": 321,
      "metadata": {
        "colab": {
          "base_uri": "https://localhost:8080/"
        },
        "id": "s0Zdylu_VAFK",
        "outputId": "bfcc489a-d1ef-4e74-cdd9-997bae40e4f1"
      },
      "outputs": [
        {
          "name": "stdout",
          "output_type": "stream",
          "text": [
            "Empty DataFrame\n",
            "Columns: [USMER, MEDICAL_UNIT, SEX, PATIENT_TYPE, DATE_DIED, INTUBED, PNEUMONIA, AGE, PREGNANT, DIABETES, COPD, ASTHMA, INMSUPR, HIPERTENSION, OTHER_DISEASE, CARDIOVASCULAR, OBESITY, RENAL_CHRONIC, TOBACCO, CLASIFFICATION_FINAL, ICU]\n",
            "Index: []\n",
            "\n",
            "[0 rows x 21 columns]\n"
          ]
        }
      ],
      "source": [
        "condition = (df['SEX'] == 1) & df['PREGNANT'].isin([97])\n",
        "\n",
        "# Filter the DataFrame based on the condition\n",
        "result_df = df[condition]\n",
        "\n",
        "# Display the result\n",
        "print(result_df)"
      ]
    },
    {
      "cell_type": "code",
      "execution_count": 322,
      "metadata": {
        "colab": {
          "base_uri": "https://localhost:8080/"
        },
        "id": "KbL3S9_PVDMt",
        "outputId": "235fed94-bd14-413d-f0a1-c5a01ebc7abd"
      },
      "outputs": [
        {
          "name": "stdout",
          "output_type": "stream",
          "text": [
            "         USMER  MEDICAL_UNIT  SEX  PATIENT_TYPE   DATE_DIED  INTUBED  \\\n",
            "1882         2             3    1             1  9999-99-99       97   \n",
            "5011         2             3    1             1  9999-99-99       97   \n",
            "5466         1             3    1             1  9999-99-99       97   \n",
            "7980         2             3    1             1  9999-99-99       97   \n",
            "20969        1             4    1             2  14/04/2020        2   \n",
            "...        ...           ...  ...           ...         ...      ...   \n",
            "658938       2            12    1             1  9999-99-99       97   \n",
            "658989       2            12    1             1  9999-99-99       97   \n",
            "659050       2            12    1             1  9999-99-99       97   \n",
            "659174       2            12    1             1  9999-99-99       97   \n",
            "1047677      1            13    1             1  9999-99-99       97   \n",
            "\n",
            "         PNEUMONIA  AGE  PREGNANT  DIABETES  ...  ASTHMA  INMSUPR  \\\n",
            "1882           2.0   20        98       2.0  ...     2.0      2.0   \n",
            "5011           2.0   55        98       1.0  ...     2.0      2.0   \n",
            "5466           2.0   32        98       2.0  ...     2.0      2.0   \n",
            "7980           2.0   30        98       2.0  ...     2.0      2.0   \n",
            "20969          2.0   54        98       2.0  ...     1.0      2.0   \n",
            "...            ...  ...       ...       ...  ...     ...      ...   \n",
            "658938         2.0   46        98       2.0  ...     2.0      2.0   \n",
            "658989         2.0    9        98       2.0  ...     1.0      2.0   \n",
            "659050         2.0   37        98       2.0  ...     2.0      2.0   \n",
            "659174         2.0    8        98       2.0  ...     2.0      2.0   \n",
            "1047677        2.0   28        98       2.0  ...     2.0      1.0   \n",
            "\n",
            "         HIPERTENSION  OTHER_DISEASE  CARDIOVASCULAR  OBESITY  RENAL_CHRONIC  \\\n",
            "1882              2.0            2.0             2.0      2.0            2.0   \n",
            "5011              1.0            2.0             2.0      2.0            2.0   \n",
            "5466              2.0            2.0             2.0      1.0            2.0   \n",
            "7980              2.0            2.0             2.0      2.0            2.0   \n",
            "20969             2.0            2.0             2.0      1.0            2.0   \n",
            "...               ...            ...             ...      ...            ...   \n",
            "658938            2.0            2.0             2.0      2.0            2.0   \n",
            "658989            2.0            2.0             2.0      2.0            2.0   \n",
            "659050            2.0            2.0             2.0      1.0            2.0   \n",
            "659174            2.0            2.0             2.0      2.0            2.0   \n",
            "1047677           2.0            2.0             2.0      2.0            2.0   \n",
            "\n",
            "         TOBACCO  CLASIFFICATION_FINAL  ICU  \n",
            "1882         2.0                     1   97  \n",
            "5011         2.0                     3   97  \n",
            "5466         2.0                     3   97  \n",
            "7980         2.0                     3   97  \n",
            "20969        2.0                     3    2  \n",
            "...          ...                   ...  ...  \n",
            "658938       1.0                     3   97  \n",
            "658989       2.0                     3   97  \n",
            "659050       2.0                     3   97  \n",
            "659174       2.0                     3   97  \n",
            "1047677      2.0                     3   97  \n",
            "\n",
            "[1282 rows x 21 columns]\n"
          ]
        }
      ],
      "source": [
        "condition = (df['SEX'] == 1) & df['PREGNANT'].isin([98])\n",
        "\n",
        "# Filter the DataFrame based on the condition\n",
        "result_df = df[condition]\n",
        "\n",
        "# Display the result\n",
        "print(result_df)"
      ]
    },
    {
      "cell_type": "code",
      "execution_count": 323,
      "metadata": {
        "id": "ejP4UIMlVLOr"
      },
      "outputs": [],
      "source": [
        "condition = (df['SEX'] == 1) & (df['PREGNANT'] == 98)\n",
        "\n",
        "df = df[~condition]"
      ]
    },
    {
      "cell_type": "code",
      "execution_count": 324,
      "metadata": {
        "colab": {
          "base_uri": "https://localhost:8080/"
        },
        "id": "6VfAfRN3V7av",
        "outputId": "5954c4e8-1300-415d-e8fa-fbf7a1c4ec3e"
      },
      "outputs": [
        {
          "name": "stdout",
          "output_type": "stream",
          "text": [
            "Empty DataFrame\n",
            "Columns: [USMER, MEDICAL_UNIT, SEX, PATIENT_TYPE, DATE_DIED, INTUBED, PNEUMONIA, AGE, PREGNANT, DIABETES, COPD, ASTHMA, INMSUPR, HIPERTENSION, OTHER_DISEASE, CARDIOVASCULAR, OBESITY, RENAL_CHRONIC, TOBACCO, CLASIFFICATION_FINAL, ICU]\n",
            "Index: []\n",
            "\n",
            "[0 rows x 21 columns]\n"
          ]
        }
      ],
      "source": [
        "condition = (df['SEX'] == 1) & df['PREGNANT'].isin([98])\n",
        "\n",
        "# Filter the DataFrame based on the condition\n",
        "result_df = df[condition]\n",
        "\n",
        "# Display the result\n",
        "print(result_df)"
      ]
    },
    {
      "cell_type": "code",
      "execution_count": 325,
      "metadata": {
        "colab": {
          "base_uri": "https://localhost:8080/",
          "height": 633
        },
        "id": "EechTHcQRUj8",
        "outputId": "82dc1e84-93c1-4ae3-a2a8-0a41695b2f01"
      },
      "outputs": [
        {
          "data": {
            "application/vnd.plotly.v1+json": {
              "config": {
                "plotlyServerURL": "https://plot.ly"
              },
              "data": [
                {
                  "coloraxis": "coloraxis",
                  "hovertemplate": "x: %{x}<br>y: %{y}<br>color: %{z}<extra></extra>",
                  "name": "0",
                  "type": "heatmap",
                  "x": [
                    "USMER",
                    "MEDICAL_UNIT",
                    "SEX",
                    "PATIENT_TYPE",
                    "INTUBED",
                    "PNEUMONIA",
                    "AGE",
                    "PREGNANT",
                    "DIABETES",
                    "COPD",
                    "ASTHMA",
                    "INMSUPR",
                    "HIPERTENSION",
                    "OTHER_DISEASE",
                    "CARDIOVASCULAR",
                    "OBESITY",
                    "RENAL_CHRONIC",
                    "TOBACCO",
                    "CLASIFFICATION_FINAL",
                    "ICU"
                  ],
                  "xaxis": "x",
                  "y": [
                    "USMER",
                    "MEDICAL_UNIT",
                    "SEX",
                    "PATIENT_TYPE",
                    "INTUBED",
                    "PNEUMONIA",
                    "AGE",
                    "PREGNANT",
                    "DIABETES",
                    "COPD",
                    "ASTHMA",
                    "INMSUPR",
                    "HIPERTENSION",
                    "OTHER_DISEASE",
                    "CARDIOVASCULAR",
                    "OBESITY",
                    "RENAL_CHRONIC",
                    "TOBACCO",
                    "CLASIFFICATION_FINAL",
                    "ICU"
                  ],
                  "yaxis": "y",
                  "z": [
                    [
                      1,
                      0.1088713321144486,
                      -0.01302746119828297,
                      -0.23331489092792557,
                      0.23063798503066893,
                      0.1958120307694215,
                      -0.1040813610481357,
                      -0.013030458569037106,
                      0.07482214071526846,
                      0.02257496809793704,
                      0.010588156630052607,
                      0.01312317753944779,
                      0.07240406248690233,
                      0.018664188649128943,
                      0.021148965546196396,
                      0.02056978069417917,
                      0.04052009724850126,
                      -0.005400125215927787,
                      -0.02587347687291793,
                      0.23048968672719147
                    ],
                    [
                      0.1088713321144486,
                      1,
                      -0.009014151504334825,
                      -0.22732496115969109,
                      0.22929181631696952,
                      0.10636455074808869,
                      -0.11995197006070299,
                      -0.009021214568524507,
                      0.07499053622602606,
                      0.033754242681713155,
                      0.007451367451031141,
                      0.028337292447037706,
                      0.09859374299384406,
                      0.11772527053644022,
                      0.023729609280814704,
                      0.017065428487564677,
                      0.062108557283983346,
                      -0.004894540668367751,
                      -0.04567594525340911,
                      0.22864863665802487
                    ],
                    [
                      -0.01302746119828297,
                      -0.009014151504334825,
                      1,
                      0.1034815513605854,
                      -0.10271657672234442,
                      -0.09060229577000847,
                      0.04275937619678766,
                      0.9999984476766248,
                      -0.005665575813876211,
                      0.002916348914945554,
                      0.04774879420623001,
                      0.011484673096189113,
                      0.004629291936010981,
                      0.02471808890748575,
                      -0.010710021110464886,
                      0.020546620507936382,
                      -0.010335715514594272,
                      -0.09765888670682257,
                      -0.002809654566422669,
                      -0.10265650439289993
                    ],
                    [
                      -0.23331489092792557,
                      -0.22732496115969109,
                      0.1034815513605854,
                      1,
                      -0.9901300729853545,
                      -0.6735806917495665,
                      0.40832406922044107,
                      0.10347522156489133,
                      -0.2677540492541171,
                      -0.09751226484797787,
                      0.01593595145813261,
                      -0.06528593599176505,
                      -0.24934682462838875,
                      -0.07044294099469893,
                      -0.08847648620490241,
                      -0.07447657052731167,
                      -0.12631591257757238,
                      -0.01057193110667599,
                      -0.010661943933308734,
                      -0.9900828989726311
                    ],
                    [
                      0.23063798503066893,
                      0.22929181631696952,
                      -0.10271657672234442,
                      -0.9901300729853545,
                      1,
                      0.6719317331379362,
                      -0.4032773156295312,
                      -0.10270969468745962,
                      0.26477180122505056,
                      0.09646849952910361,
                      -0.016722168556538804,
                      0.06543498157769297,
                      0.24570625871015653,
                      0.07018217918320169,
                      0.08757027253306897,
                      0.07312910790050034,
                      0.125317801285987,
                      0.010886140502975955,
                      0.010995863748643517,
                      0.9999315810846554
                    ],
                    [
                      0.1958120307694215,
                      0.10636455074808869,
                      -0.09060229577000847,
                      -0.6735806917495665,
                      0.6719317331379362,
                      1,
                      -0.34350309665379847,
                      -0.09062575080299733,
                      0.22437189985330322,
                      0.07990441553401452,
                      -0.012785266279976488,
                      0.050174488433848884,
                      0.2032276193216676,
                      0.04205279261729637,
                      0.07186521994176373,
                      0.07844758361755788,
                      0.09310902573731057,
                      0.01653178411700983,
                      0.007578688253255001,
                      0.6717922412595857
                    ],
                    [
                      -0.1040813610481357,
                      -0.11995197006070299,
                      0.04275937619678766,
                      0.40832406922044107,
                      -0.4032773156295312,
                      -0.34350309665379847,
                      1,
                      0.04290173067825899,
                      -0.3308115110306176,
                      -0.152687806097427,
                      0.024419513611633803,
                      -0.03628525421848014,
                      -0.39739420078517745,
                      -0.04750697815885076,
                      -0.13461787522111565,
                      -0.058508258361169484,
                      -0.09262091822474097,
                      -0.00014672133269003472,
                      -0.002164136748674936,
                      -0.40294819530183473
                    ],
                    [
                      -0.013030458569037106,
                      -0.009021214568524507,
                      0.9999984476766248,
                      0.10347522156489133,
                      -0.10270969468745962,
                      -0.09062575080299733,
                      0.04290173067825899,
                      1,
                      -0.00571407521587576,
                      0.0028996670082058196,
                      0.04774104587848355,
                      0.011480127643658489,
                      0.004565824717365997,
                      0.02473463311044291,
                      -0.010724914942747675,
                      0.020506161652851563,
                      -0.01035209249892793,
                      -0.09767451065004064,
                      -0.0028037172204590003,
                      -0.1026494799756262
                    ],
                    [
                      0.07482214071526846,
                      0.07499053622602606,
                      -0.005665575813876211,
                      -0.2677540492541171,
                      0.26477180122505056,
                      0.22437189985330322,
                      -0.3308115110306176,
                      -0.00571407521587576,
                      1,
                      0.08469691911922583,
                      0.004022427985601051,
                      0.053146292041434805,
                      0.3705299431452222,
                      0.029972060082993926,
                      0.10058808542283343,
                      0.10425811862118647,
                      0.15482775704625562,
                      0.012964909881423549,
                      -0.0015866828266575266,
                      0.2646298614915011
                    ],
                    [
                      0.02257496809793704,
                      0.033754242681713155,
                      0.002916348914945554,
                      -0.09751226484797787,
                      0.09646849952910361,
                      0.07990441553401452,
                      -0.152687806097427,
                      0.0028996670082058196,
                      0.08469691911922583,
                      1,
                      0.03879755646154309,
                      0.05403424650446183,
                      0.10215806336507458,
                      0.03240499842663078,
                      0.09355238127259591,
                      0.03468764751907945,
                      0.05339794414244795,
                      0.062268158927623066,
                      -0.0010257142142695425,
                      0.09640732387041635
                    ],
                    [
                      0.010588156630052607,
                      0.007451367451031141,
                      0.04774879420623001,
                      0.01593595145813261,
                      -0.016722168556538804,
                      -0.012785266279976488,
                      0.024419513611633803,
                      0.04774104587848355,
                      0.004022427985601051,
                      0.03879755646154309,
                      1,
                      0.024026587629921988,
                      0.015349560707377792,
                      0.014653948461845272,
                      0.019634847565703085,
                      0.046390054839086356,
                      0.005022399949363538,
                      0.0032887926385862815,
                      -0.00611945412228745,
                      -0.01669885062647981
                    ],
                    [
                      0.01312317753944779,
                      0.028337292447037706,
                      0.011484673096189113,
                      -0.06528593599176505,
                      0.06543498157769297,
                      0.050174488433848884,
                      -0.03628525421848014,
                      0.011480127643658489,
                      0.053146292041434805,
                      0.05403424650446183,
                      0.024026587629921988,
                      1,
                      0.041104687961046944,
                      0.10836482746888543,
                      0.05827670396861144,
                      0.016827479432879537,
                      0.10268806813967393,
                      0.010824923014524776,
                      -0.0025113774955896574,
                      0.06541844659160215
                    ],
                    [
                      0.07240406248690233,
                      0.09859374299384406,
                      0.004629291936010981,
                      -0.24934682462838875,
                      0.24570625871015653,
                      0.2032276193216676,
                      -0.39739420078517745,
                      0.004565824717365997,
                      0.3705299431452222,
                      0.10215806336507458,
                      0.015349560707377792,
                      0.041104687961046944,
                      1,
                      0.04730437546505728,
                      0.15441374579324954,
                      0.15269456471436885,
                      0.17160897928246863,
                      0.00757149042978013,
                      -0.005264538746860262,
                      0.2454709541324403
                    ],
                    [
                      0.018664188649128943,
                      0.11772527053644022,
                      0.02471808890748575,
                      -0.07044294099469893,
                      0.07018217918320169,
                      0.04205279261729637,
                      -0.04750697815885076,
                      0.02473463311044291,
                      0.029972060082993926,
                      0.03240499842663078,
                      0.014653948461845272,
                      0.10836482746888543,
                      0.04730437546505728,
                      1,
                      0.06385421163932359,
                      0.020717084340787825,
                      0.04891836564702339,
                      0.013415660316361535,
                      -0.00851305938577938,
                      0.07005123187899591
                    ],
                    [
                      0.021148965546196396,
                      0.023729609280814704,
                      -0.010710021110464886,
                      -0.08847648620490241,
                      0.08757027253306897,
                      0.07186521994176373,
                      -0.13461787522111565,
                      -0.010724914942747675,
                      0.10058808542283343,
                      0.09355238127259591,
                      0.019634847565703085,
                      0.05827670396861144,
                      0.15441374579324954,
                      0.06385421163932359,
                      1,
                      0.0523876842621398,
                      0.09643334113215107,
                      0.027114917398908853,
                      0.0007174101288441032,
                      0.08754516636621956
                    ],
                    [
                      0.02056978069417917,
                      0.017065428487564677,
                      0.020546620507936382,
                      -0.07447657052731167,
                      0.07312910790050034,
                      0.07844758361755788,
                      -0.058508258361169484,
                      0.020506161652851563,
                      0.10425811862118647,
                      0.03468764751907945,
                      0.046390054839086356,
                      0.016827479432879537,
                      0.15269456471436885,
                      0.020717084340787825,
                      0.0523876842621398,
                      1,
                      0.00917124205512162,
                      0.07257275475929649,
                      -0.014673498225707772,
                      0.073139606156747
                    ],
                    [
                      0.04052009724850126,
                      0.062108557283983346,
                      -0.010335715514594272,
                      -0.12631591257757238,
                      0.125317801285987,
                      0.09310902573731057,
                      -0.09262091822474097,
                      -0.01035209249892793,
                      0.15482775704625562,
                      0.05339794414244795,
                      0.005022399949363538,
                      0.10268806813967393,
                      0.17160897928246863,
                      0.04891836564702339,
                      0.09643334113215107,
                      0.00917124205512162,
                      1,
                      0.01342268084098742,
                      -0.001034763431528608,
                      0.1252226910565422
                    ],
                    [
                      -0.005400125215927787,
                      -0.004894540668367751,
                      -0.09765888670682257,
                      -0.01057193110667599,
                      0.010886140502975955,
                      0.01653178411700983,
                      -0.00014672133269003472,
                      -0.09767451065004064,
                      0.012964909881423549,
                      0.062268158927623066,
                      0.0032887926385862815,
                      0.010824923014524776,
                      0.00757149042978013,
                      0.013415660316361535,
                      0.027114917398908853,
                      0.07257275475929649,
                      0.01342268084098742,
                      1,
                      0.006456384768228582,
                      0.010840716374623801
                    ],
                    [
                      -0.02587347687291793,
                      -0.04567594525340911,
                      -0.002809654566422669,
                      -0.010661943933308734,
                      0.010995863748643517,
                      0.007578688253255001,
                      -0.002164136748674936,
                      -0.0028037172204590003,
                      -0.0015866828266575266,
                      -0.0010257142142695425,
                      -0.00611945412228745,
                      -0.0025113774955896574,
                      -0.005264538746860262,
                      -0.00851305938577938,
                      0.0007174101288441032,
                      -0.014673498225707772,
                      -0.001034763431528608,
                      0.006456384768228582,
                      1,
                      0.010988364462477748
                    ],
                    [
                      0.23048968672719147,
                      0.22864863665802487,
                      -0.10265650439289993,
                      -0.9900828989726311,
                      0.9999315810846554,
                      0.6717922412595857,
                      -0.40294819530183473,
                      -0.1026494799756262,
                      0.2646298614915011,
                      0.09640732387041635,
                      -0.01669885062647981,
                      0.06541844659160215,
                      0.2454709541324403,
                      0.07005123187899591,
                      0.08754516636621956,
                      0.073139606156747,
                      0.1252226910565422,
                      0.010840716374623801,
                      0.010988364462477748,
                      1
                    ]
                  ]
                }
              ],
              "layout": {
                "coloraxis": {
                  "colorscale": [
                    [
                      0,
                      "#0d0887"
                    ],
                    [
                      0.1111111111111111,
                      "#46039f"
                    ],
                    [
                      0.2222222222222222,
                      "#7201a8"
                    ],
                    [
                      0.3333333333333333,
                      "#9c179e"
                    ],
                    [
                      0.4444444444444444,
                      "#bd3786"
                    ],
                    [
                      0.5555555555555556,
                      "#d8576b"
                    ],
                    [
                      0.6666666666666666,
                      "#ed7953"
                    ],
                    [
                      0.7777777777777778,
                      "#fb9f3a"
                    ],
                    [
                      0.8888888888888888,
                      "#fdca26"
                    ],
                    [
                      1,
                      "#f0f921"
                    ]
                  ]
                },
                "template": {
                  "data": {
                    "bar": [
                      {
                        "error_x": {
                          "color": "#2a3f5f"
                        },
                        "error_y": {
                          "color": "#2a3f5f"
                        },
                        "marker": {
                          "line": {
                            "color": "#E5ECF6",
                            "width": 0.5
                          },
                          "pattern": {
                            "fillmode": "overlay",
                            "size": 10,
                            "solidity": 0.2
                          }
                        },
                        "type": "bar"
                      }
                    ],
                    "barpolar": [
                      {
                        "marker": {
                          "line": {
                            "color": "#E5ECF6",
                            "width": 0.5
                          },
                          "pattern": {
                            "fillmode": "overlay",
                            "size": 10,
                            "solidity": 0.2
                          }
                        },
                        "type": "barpolar"
                      }
                    ],
                    "carpet": [
                      {
                        "aaxis": {
                          "endlinecolor": "#2a3f5f",
                          "gridcolor": "white",
                          "linecolor": "white",
                          "minorgridcolor": "white",
                          "startlinecolor": "#2a3f5f"
                        },
                        "baxis": {
                          "endlinecolor": "#2a3f5f",
                          "gridcolor": "white",
                          "linecolor": "white",
                          "minorgridcolor": "white",
                          "startlinecolor": "#2a3f5f"
                        },
                        "type": "carpet"
                      }
                    ],
                    "choropleth": [
                      {
                        "colorbar": {
                          "outlinewidth": 0,
                          "ticks": ""
                        },
                        "type": "choropleth"
                      }
                    ],
                    "contour": [
                      {
                        "colorbar": {
                          "outlinewidth": 0,
                          "ticks": ""
                        },
                        "colorscale": [
                          [
                            0,
                            "#0d0887"
                          ],
                          [
                            0.1111111111111111,
                            "#46039f"
                          ],
                          [
                            0.2222222222222222,
                            "#7201a8"
                          ],
                          [
                            0.3333333333333333,
                            "#9c179e"
                          ],
                          [
                            0.4444444444444444,
                            "#bd3786"
                          ],
                          [
                            0.5555555555555556,
                            "#d8576b"
                          ],
                          [
                            0.6666666666666666,
                            "#ed7953"
                          ],
                          [
                            0.7777777777777778,
                            "#fb9f3a"
                          ],
                          [
                            0.8888888888888888,
                            "#fdca26"
                          ],
                          [
                            1,
                            "#f0f921"
                          ]
                        ],
                        "type": "contour"
                      }
                    ],
                    "contourcarpet": [
                      {
                        "colorbar": {
                          "outlinewidth": 0,
                          "ticks": ""
                        },
                        "type": "contourcarpet"
                      }
                    ],
                    "heatmap": [
                      {
                        "colorbar": {
                          "outlinewidth": 0,
                          "ticks": ""
                        },
                        "colorscale": [
                          [
                            0,
                            "#0d0887"
                          ],
                          [
                            0.1111111111111111,
                            "#46039f"
                          ],
                          [
                            0.2222222222222222,
                            "#7201a8"
                          ],
                          [
                            0.3333333333333333,
                            "#9c179e"
                          ],
                          [
                            0.4444444444444444,
                            "#bd3786"
                          ],
                          [
                            0.5555555555555556,
                            "#d8576b"
                          ],
                          [
                            0.6666666666666666,
                            "#ed7953"
                          ],
                          [
                            0.7777777777777778,
                            "#fb9f3a"
                          ],
                          [
                            0.8888888888888888,
                            "#fdca26"
                          ],
                          [
                            1,
                            "#f0f921"
                          ]
                        ],
                        "type": "heatmap"
                      }
                    ],
                    "heatmapgl": [
                      {
                        "colorbar": {
                          "outlinewidth": 0,
                          "ticks": ""
                        },
                        "colorscale": [
                          [
                            0,
                            "#0d0887"
                          ],
                          [
                            0.1111111111111111,
                            "#46039f"
                          ],
                          [
                            0.2222222222222222,
                            "#7201a8"
                          ],
                          [
                            0.3333333333333333,
                            "#9c179e"
                          ],
                          [
                            0.4444444444444444,
                            "#bd3786"
                          ],
                          [
                            0.5555555555555556,
                            "#d8576b"
                          ],
                          [
                            0.6666666666666666,
                            "#ed7953"
                          ],
                          [
                            0.7777777777777778,
                            "#fb9f3a"
                          ],
                          [
                            0.8888888888888888,
                            "#fdca26"
                          ],
                          [
                            1,
                            "#f0f921"
                          ]
                        ],
                        "type": "heatmapgl"
                      }
                    ],
                    "histogram": [
                      {
                        "marker": {
                          "pattern": {
                            "fillmode": "overlay",
                            "size": 10,
                            "solidity": 0.2
                          }
                        },
                        "type": "histogram"
                      }
                    ],
                    "histogram2d": [
                      {
                        "colorbar": {
                          "outlinewidth": 0,
                          "ticks": ""
                        },
                        "colorscale": [
                          [
                            0,
                            "#0d0887"
                          ],
                          [
                            0.1111111111111111,
                            "#46039f"
                          ],
                          [
                            0.2222222222222222,
                            "#7201a8"
                          ],
                          [
                            0.3333333333333333,
                            "#9c179e"
                          ],
                          [
                            0.4444444444444444,
                            "#bd3786"
                          ],
                          [
                            0.5555555555555556,
                            "#d8576b"
                          ],
                          [
                            0.6666666666666666,
                            "#ed7953"
                          ],
                          [
                            0.7777777777777778,
                            "#fb9f3a"
                          ],
                          [
                            0.8888888888888888,
                            "#fdca26"
                          ],
                          [
                            1,
                            "#f0f921"
                          ]
                        ],
                        "type": "histogram2d"
                      }
                    ],
                    "histogram2dcontour": [
                      {
                        "colorbar": {
                          "outlinewidth": 0,
                          "ticks": ""
                        },
                        "colorscale": [
                          [
                            0,
                            "#0d0887"
                          ],
                          [
                            0.1111111111111111,
                            "#46039f"
                          ],
                          [
                            0.2222222222222222,
                            "#7201a8"
                          ],
                          [
                            0.3333333333333333,
                            "#9c179e"
                          ],
                          [
                            0.4444444444444444,
                            "#bd3786"
                          ],
                          [
                            0.5555555555555556,
                            "#d8576b"
                          ],
                          [
                            0.6666666666666666,
                            "#ed7953"
                          ],
                          [
                            0.7777777777777778,
                            "#fb9f3a"
                          ],
                          [
                            0.8888888888888888,
                            "#fdca26"
                          ],
                          [
                            1,
                            "#f0f921"
                          ]
                        ],
                        "type": "histogram2dcontour"
                      }
                    ],
                    "mesh3d": [
                      {
                        "colorbar": {
                          "outlinewidth": 0,
                          "ticks": ""
                        },
                        "type": "mesh3d"
                      }
                    ],
                    "parcoords": [
                      {
                        "line": {
                          "colorbar": {
                            "outlinewidth": 0,
                            "ticks": ""
                          }
                        },
                        "type": "parcoords"
                      }
                    ],
                    "pie": [
                      {
                        "automargin": true,
                        "type": "pie"
                      }
                    ],
                    "scatter": [
                      {
                        "fillpattern": {
                          "fillmode": "overlay",
                          "size": 10,
                          "solidity": 0.2
                        },
                        "type": "scatter"
                      }
                    ],
                    "scatter3d": [
                      {
                        "line": {
                          "colorbar": {
                            "outlinewidth": 0,
                            "ticks": ""
                          }
                        },
                        "marker": {
                          "colorbar": {
                            "outlinewidth": 0,
                            "ticks": ""
                          }
                        },
                        "type": "scatter3d"
                      }
                    ],
                    "scattercarpet": [
                      {
                        "marker": {
                          "colorbar": {
                            "outlinewidth": 0,
                            "ticks": ""
                          }
                        },
                        "type": "scattercarpet"
                      }
                    ],
                    "scattergeo": [
                      {
                        "marker": {
                          "colorbar": {
                            "outlinewidth": 0,
                            "ticks": ""
                          }
                        },
                        "type": "scattergeo"
                      }
                    ],
                    "scattergl": [
                      {
                        "marker": {
                          "colorbar": {
                            "outlinewidth": 0,
                            "ticks": ""
                          }
                        },
                        "type": "scattergl"
                      }
                    ],
                    "scattermapbox": [
                      {
                        "marker": {
                          "colorbar": {
                            "outlinewidth": 0,
                            "ticks": ""
                          }
                        },
                        "type": "scattermapbox"
                      }
                    ],
                    "scatterpolar": [
                      {
                        "marker": {
                          "colorbar": {
                            "outlinewidth": 0,
                            "ticks": ""
                          }
                        },
                        "type": "scatterpolar"
                      }
                    ],
                    "scatterpolargl": [
                      {
                        "marker": {
                          "colorbar": {
                            "outlinewidth": 0,
                            "ticks": ""
                          }
                        },
                        "type": "scatterpolargl"
                      }
                    ],
                    "scatterternary": [
                      {
                        "marker": {
                          "colorbar": {
                            "outlinewidth": 0,
                            "ticks": ""
                          }
                        },
                        "type": "scatterternary"
                      }
                    ],
                    "surface": [
                      {
                        "colorbar": {
                          "outlinewidth": 0,
                          "ticks": ""
                        },
                        "colorscale": [
                          [
                            0,
                            "#0d0887"
                          ],
                          [
                            0.1111111111111111,
                            "#46039f"
                          ],
                          [
                            0.2222222222222222,
                            "#7201a8"
                          ],
                          [
                            0.3333333333333333,
                            "#9c179e"
                          ],
                          [
                            0.4444444444444444,
                            "#bd3786"
                          ],
                          [
                            0.5555555555555556,
                            "#d8576b"
                          ],
                          [
                            0.6666666666666666,
                            "#ed7953"
                          ],
                          [
                            0.7777777777777778,
                            "#fb9f3a"
                          ],
                          [
                            0.8888888888888888,
                            "#fdca26"
                          ],
                          [
                            1,
                            "#f0f921"
                          ]
                        ],
                        "type": "surface"
                      }
                    ],
                    "table": [
                      {
                        "cells": {
                          "fill": {
                            "color": "#EBF0F8"
                          },
                          "line": {
                            "color": "white"
                          }
                        },
                        "header": {
                          "fill": {
                            "color": "#C8D4E3"
                          },
                          "line": {
                            "color": "white"
                          }
                        },
                        "type": "table"
                      }
                    ]
                  },
                  "layout": {
                    "annotationdefaults": {
                      "arrowcolor": "#2a3f5f",
                      "arrowhead": 0,
                      "arrowwidth": 1
                    },
                    "autotypenumbers": "strict",
                    "coloraxis": {
                      "colorbar": {
                        "outlinewidth": 0,
                        "ticks": ""
                      }
                    },
                    "colorscale": {
                      "diverging": [
                        [
                          0,
                          "#8e0152"
                        ],
                        [
                          0.1,
                          "#c51b7d"
                        ],
                        [
                          0.2,
                          "#de77ae"
                        ],
                        [
                          0.3,
                          "#f1b6da"
                        ],
                        [
                          0.4,
                          "#fde0ef"
                        ],
                        [
                          0.5,
                          "#f7f7f7"
                        ],
                        [
                          0.6,
                          "#e6f5d0"
                        ],
                        [
                          0.7,
                          "#b8e186"
                        ],
                        [
                          0.8,
                          "#7fbc41"
                        ],
                        [
                          0.9,
                          "#4d9221"
                        ],
                        [
                          1,
                          "#276419"
                        ]
                      ],
                      "sequential": [
                        [
                          0,
                          "#0d0887"
                        ],
                        [
                          0.1111111111111111,
                          "#46039f"
                        ],
                        [
                          0.2222222222222222,
                          "#7201a8"
                        ],
                        [
                          0.3333333333333333,
                          "#9c179e"
                        ],
                        [
                          0.4444444444444444,
                          "#bd3786"
                        ],
                        [
                          0.5555555555555556,
                          "#d8576b"
                        ],
                        [
                          0.6666666666666666,
                          "#ed7953"
                        ],
                        [
                          0.7777777777777778,
                          "#fb9f3a"
                        ],
                        [
                          0.8888888888888888,
                          "#fdca26"
                        ],
                        [
                          1,
                          "#f0f921"
                        ]
                      ],
                      "sequentialminus": [
                        [
                          0,
                          "#0d0887"
                        ],
                        [
                          0.1111111111111111,
                          "#46039f"
                        ],
                        [
                          0.2222222222222222,
                          "#7201a8"
                        ],
                        [
                          0.3333333333333333,
                          "#9c179e"
                        ],
                        [
                          0.4444444444444444,
                          "#bd3786"
                        ],
                        [
                          0.5555555555555556,
                          "#d8576b"
                        ],
                        [
                          0.6666666666666666,
                          "#ed7953"
                        ],
                        [
                          0.7777777777777778,
                          "#fb9f3a"
                        ],
                        [
                          0.8888888888888888,
                          "#fdca26"
                        ],
                        [
                          1,
                          "#f0f921"
                        ]
                      ]
                    },
                    "colorway": [
                      "#636efa",
                      "#EF553B",
                      "#00cc96",
                      "#ab63fa",
                      "#FFA15A",
                      "#19d3f3",
                      "#FF6692",
                      "#B6E880",
                      "#FF97FF",
                      "#FECB52"
                    ],
                    "font": {
                      "color": "#2a3f5f"
                    },
                    "geo": {
                      "bgcolor": "white",
                      "lakecolor": "white",
                      "landcolor": "#E5ECF6",
                      "showlakes": true,
                      "showland": true,
                      "subunitcolor": "white"
                    },
                    "hoverlabel": {
                      "align": "left"
                    },
                    "hovermode": "closest",
                    "mapbox": {
                      "style": "light"
                    },
                    "paper_bgcolor": "white",
                    "plot_bgcolor": "#E5ECF6",
                    "polar": {
                      "angularaxis": {
                        "gridcolor": "white",
                        "linecolor": "white",
                        "ticks": ""
                      },
                      "bgcolor": "#E5ECF6",
                      "radialaxis": {
                        "gridcolor": "white",
                        "linecolor": "white",
                        "ticks": ""
                      }
                    },
                    "scene": {
                      "xaxis": {
                        "backgroundcolor": "#E5ECF6",
                        "gridcolor": "white",
                        "gridwidth": 2,
                        "linecolor": "white",
                        "showbackground": true,
                        "ticks": "",
                        "zerolinecolor": "white"
                      },
                      "yaxis": {
                        "backgroundcolor": "#E5ECF6",
                        "gridcolor": "white",
                        "gridwidth": 2,
                        "linecolor": "white",
                        "showbackground": true,
                        "ticks": "",
                        "zerolinecolor": "white"
                      },
                      "zaxis": {
                        "backgroundcolor": "#E5ECF6",
                        "gridcolor": "white",
                        "gridwidth": 2,
                        "linecolor": "white",
                        "showbackground": true,
                        "ticks": "",
                        "zerolinecolor": "white"
                      }
                    },
                    "shapedefaults": {
                      "line": {
                        "color": "#2a3f5f"
                      }
                    },
                    "ternary": {
                      "aaxis": {
                        "gridcolor": "white",
                        "linecolor": "white",
                        "ticks": ""
                      },
                      "baxis": {
                        "gridcolor": "white",
                        "linecolor": "white",
                        "ticks": ""
                      },
                      "bgcolor": "#E5ECF6",
                      "caxis": {
                        "gridcolor": "white",
                        "linecolor": "white",
                        "ticks": ""
                      }
                    },
                    "title": {
                      "x": 0.05
                    },
                    "xaxis": {
                      "automargin": true,
                      "gridcolor": "white",
                      "linecolor": "white",
                      "ticks": "",
                      "title": {
                        "standoff": 15
                      },
                      "zerolinecolor": "white",
                      "zerolinewidth": 2
                    },
                    "yaxis": {
                      "automargin": true,
                      "gridcolor": "white",
                      "linecolor": "white",
                      "ticks": "",
                      "title": {
                        "standoff": 15
                      },
                      "zerolinecolor": "white",
                      "zerolinewidth": 2
                    }
                  }
                },
                "title": {
                  "text": "Macierz korelacji atrybutów po usunięciu brakujących danych"
                },
                "xaxis": {
                  "anchor": "y",
                  "constrain": "domain",
                  "domain": [
                    0,
                    1
                  ],
                  "scaleanchor": "y"
                },
                "yaxis": {
                  "anchor": "x",
                  "autorange": "reversed",
                  "constrain": "domain",
                  "domain": [
                    0,
                    1
                  ]
                }
              }
            }
          },
          "metadata": {},
          "output_type": "display_data"
        }
      ],
      "source": [
        "px.imshow(df.corr(),title=\"Macierz korelacji atrybutów po usunięciu brakujących danych\")"
      ]
    },
    {
      "cell_type": "markdown",
      "metadata": {
        "id": "_jUgwWO9JicN"
      },
      "source": [
        "## Dodanie nowej kolumny (Atrybut Decyzyjny) - DECEASED"
      ]
    },
    {
      "cell_type": "code",
      "execution_count": 326,
      "metadata": {
        "colab": {
          "base_uri": "https://localhost:8080/",
          "height": 577
        },
        "id": "0hQqqx7IJo0d",
        "outputId": "0b24d875-1400-486b-e96d-abf56e9e0baa"
      },
      "outputs": [
        {
          "data": {
            "image/png": "[encoded data removed]",
            "text/plain": [
              "<Figure size 1600x800 with 1 Axes>"
            ]
          },
          "metadata": {},
          "output_type": "display_data"
        }
      ],
      "source": [
        "condition_yes = (df['DATE_DIED'] != '9999-99-99')\n",
        "condition_no = (df['DATE_DIED'] == '9999-99-99')\n",
        "\n",
        "# Create a new column based on the conditions\n",
        "df['DECEASED'] = np.where(condition_yes, 'Yes', 'No')\n",
        "\n",
        "count_death_yes = df[condition_yes].shape[0]\n",
        "count_death_no = df[condition_no].shape[0]\n",
        "\n",
        "p = sns.countplot(data=df, x=\"DECEASED\")\n",
        "plt.show()"
      ]
    },
    {
      "cell_type": "markdown",
      "metadata": {
        "id": "euxVjVpAUYnC"
      },
      "source": [
        "##Dyskretyzacja 'AGE' na 5 grup"
      ]
    },
    {
      "cell_type": "code",
      "execution_count": 327,
      "metadata": {
        "colab": {
          "base_uri": "https://localhost:8080/",
          "height": 573
        },
        "id": "8gV4LZgbC9vs",
        "outputId": "fa0ae0d0-0cb3-4728-f467-f86e8e589004"
      },
      "outputs": [
        {
          "data": {
            "image/png": "[encoded data removed]",
            "text/plain": [
              "<Figure size 1600x800 with 1 Axes>"
            ]
          },
          "metadata": {},
          "output_type": "display_data"
        }
      ],
      "source": [
        "age_bins = [0, 18, 35, 50, 65, np.inf]\n",
        "age_labels = [1, 2, 3, 4, 5]\n",
        "#['Child', 'Young Adult', 'Adult', 'Middle-Aged', 'Senior']\n",
        "df['AGE'] = pd.cut(df['AGE'], bins=age_bins, labels=age_labels, right=False)\n",
        "\n",
        "p = sns.countplot(data=df, x=\"AGE\")\n",
        "plt.show()"
      ]
    },
    {
      "cell_type": "markdown",
      "metadata": {
        "id": "ZbZ9yz0YYph4"
      },
      "source": [
        "# Trenowanie Danych"
      ]
    },
    {
      "cell_type": "code",
      "execution_count": 328,
      "metadata": {
        "id": "uK1yG5NqAwTJ"
      },
      "outputs": [],
      "source": [
        "x = df.drop(columns=['DECEASED', 'DATE_DIED'])\n",
        "y = df['DECEASED']\n",
        "\n",
        "x_train, x_test, y_train, y_test = train_test_split(x, y, test_size=0.2, random_state=2077)"
      ]
    },
    {
      "cell_type": "code",
      "execution_count": 329,
      "metadata": {
        "id": "x4C1O3TpB5Jx"
      },
      "outputs": [],
      "source": [
        "scaler = StandardScaler()\n",
        "x_train = scaler.fit_transform(x_train)\n",
        "x_test = scaler.transform(x_test)"
      ]
    },
    {
      "cell_type": "code",
      "execution_count": 330,
      "metadata": {},
      "outputs": [],
      "source": [
        "results_list = []"
      ]
    },
    {
      "cell_type": "code",
      "execution_count": 331,
      "metadata": {
        "id": "6qh7C2erDXBE"
      },
      "outputs": [],
      "source": [
        "def trainModel(model, x_train, y_train, x_test, y_test, name):\n",
        "    model.fit(x_train, y_train)\n",
        "    predicted_output = model.predict(x_test)\n",
        "    \n",
        "    confusionMatrix = confusion_matrix(y_test, predicted_output)\n",
        "    trueNegative = confusionMatrix[0][0]\n",
        "    falseNegative = confusionMatrix[1][0]\n",
        "    truePositive = confusionMatrix[1][1]\n",
        "    falsePositive = confusionMatrix[0][1]\n",
        "\n",
        "    accuracy = (trueNegative + truePositive) / (trueNegative + falseNegative + truePositive + falsePositive) * 100\n",
        "    trueNegativeRatio = trueNegative / (trueNegative + falsePositive)* 100\n",
        "    falseNegativeRatio = falseNegative / (falseNegative + truePositive)* 100\n",
        "    truePositiveRatio = truePositive / (truePositive + falseNegative)* 100\n",
        "    falsePositiveRatio = falsePositive / (trueNegative + falsePositive)* 100\n",
        "\n",
        "    print(name)\n",
        "    print()\n",
        "    print(\"Confusion Matrix:\")\n",
        "    print(confusionMatrix)\n",
        "    print()\n",
        "    print(\"Accuracy:\", round(accuracy, 2),  \"%\")\n",
        "    print()    \n",
        "    print(\"True Positive Ratio:\", round(truePositiveRatio, 2),  \"%\")\n",
        "    print(\"True Negative Ratio:\", round(trueNegativeRatio, 2),  \"%\")\n",
        "    print(\"False Positive Ratio:\", round(falsePositiveRatio, 2),  \"%\")\n",
        "    print(\"False Negative Ratio:\", round(falseNegativeRatio, 2),  \"%\")\n",
        "\n",
        "    classificationReport = classification_report(y_test, predicted_output)\n",
        "    print(f\"\\nClassification Report of {name} Algorithm:\")\n",
        "    print(classificationReport)\n",
        "    \n",
        "    result = {\n",
        "        \"name\": name,\n",
        "        \"accuracy\": round(accuracy, 2),\n",
        "        \"true_positive_ratio\": round(truePositiveRatio, 2),\n",
        "        \"true_negative_ratio\": round(trueNegativeRatio, 2),\n",
        "        \"false_positive_ratio\": round(falsePositiveRatio, 2),\n",
        "        \"false_negative_ratio\": round(falseNegativeRatio, 2),\n",
        "        \"confusion_matrix\": confusionMatrix,\n",
        "        \"classification_report\": classification_report(y_test, predicted_output)\n",
        "    }\n",
        "\n",
        "    results_list.append(result)\n"
      ]
    },
    {
      "cell_type": "code",
      "execution_count": 332,
      "metadata": {
        "colab": {
          "base_uri": "https://localhost:8080/"
        },
        "id": "-_PniwH3IisN",
        "outputId": "3d41ac10-65e6-4a4f-e9ce-57a79f8668fa"
      },
      "outputs": [
        {
          "name": "stdout",
          "output_type": "stream",
          "text": [
            "Naive Bayes\n",
            "\n",
            "Confusion Matrix:\n",
            "[[55037 11667]\n",
            " [ 1340  9476]]\n",
            "\n",
            "Accuracy: 83.22 %\n",
            "\n",
            "True Positive Ratio: 87.61 %\n",
            "True Negative Ratio: 82.51 %\n",
            "False Positive Ratio: 17.49 %\n",
            "False Negative Ratio: 12.39 %\n",
            "\n",
            "Classification Report of Naive Bayes Algorithm:\n",
            "              precision    recall  f1-score   support\n",
            "\n",
            "          No       0.98      0.83      0.89     66704\n",
            "         Yes       0.45      0.88      0.59     10816\n",
            "\n",
            "    accuracy                           0.83     77520\n",
            "   macro avg       0.71      0.85      0.74     77520\n",
            "weighted avg       0.90      0.83      0.85     77520\n",
            "\n"
          ]
        }
      ],
      "source": [
        "trainModel(GaussianNB(), x_train, y_train, x_test, y_test, name='Naive Bayes')"
      ]
    },
    {
      "cell_type": "code",
      "execution_count": 333,
      "metadata": {
        "colab": {
          "base_uri": "https://localhost:8080/"
        },
        "id": "XOeouNjFEjfa",
        "outputId": "3b6e5ed4-0bd3-4366-d2de-d5024c3f43e1"
      },
      "outputs": [
        {
          "name": "stdout",
          "output_type": "stream",
          "text": [
            "Logistic regression\n",
            "\n",
            "Confusion Matrix:\n",
            "[[63541  3163]\n",
            " [ 4598  6218]]\n",
            "\n",
            "Accuracy: 89.99 %\n",
            "\n",
            "True Positive Ratio: 57.49 %\n",
            "True Negative Ratio: 95.26 %\n",
            "False Positive Ratio: 4.74 %\n",
            "False Negative Ratio: 42.51 %\n",
            "\n",
            "Classification Report of Logistic regression Algorithm:\n",
            "              precision    recall  f1-score   support\n",
            "\n",
            "          No       0.93      0.95      0.94     66704\n",
            "         Yes       0.66      0.57      0.62     10816\n",
            "\n",
            "    accuracy                           0.90     77520\n",
            "   macro avg       0.80      0.76      0.78     77520\n",
            "weighted avg       0.89      0.90      0.90     77520\n",
            "\n"
          ]
        }
      ],
      "source": [
        "trainModel(LogisticRegression(max_iter=10000), x_train, y_train, x_test, y_test, \"Logistic regression\")"
      ]
    },
    {
      "cell_type": "code",
      "execution_count": 334,
      "metadata": {
        "id": "XROpeqyS08cQ"
      },
      "outputs": [
        {
          "name": "stdout",
          "output_type": "stream",
          "text": [
            "K=1 Nearest Neighbours\n",
            "\n",
            "Confusion Matrix:\n",
            "[[62202  4502]\n",
            " [ 4385  6431]]\n",
            "\n",
            "Accuracy: 88.54 %\n",
            "\n",
            "True Positive Ratio: 59.46 %\n",
            "True Negative Ratio: 93.25 %\n",
            "False Positive Ratio: 6.75 %\n",
            "False Negative Ratio: 40.54 %\n",
            "\n",
            "Classification Report of K=1 Nearest Neighbours Algorithm:\n",
            "              precision    recall  f1-score   support\n",
            "\n",
            "          No       0.93      0.93      0.93     66704\n",
            "         Yes       0.59      0.59      0.59     10816\n",
            "\n",
            "    accuracy                           0.89     77520\n",
            "   macro avg       0.76      0.76      0.76     77520\n",
            "weighted avg       0.89      0.89      0.89     77520\n",
            "\n"
          ]
        }
      ],
      "source": [
        "trainModel(KNeighborsClassifier(n_neighbors = 1), x_train, y_train, x_test, y_test, \"K=1 Nearest Neighbours\")"
      ]
    },
    {
      "cell_type": "code",
      "execution_count": 335,
      "metadata": {
        "id": "MRr1jHcU1GHt"
      },
      "outputs": [
        {
          "name": "stdout",
          "output_type": "stream",
          "text": [
            "K=3 Nearest Neighbours\n",
            "\n",
            "Confusion Matrix:\n",
            "[[63181  3523]\n",
            " [ 4594  6222]]\n",
            "\n",
            "Accuracy: 89.53 %\n",
            "\n",
            "True Positive Ratio: 57.53 %\n",
            "True Negative Ratio: 94.72 %\n",
            "False Positive Ratio: 5.28 %\n",
            "False Negative Ratio: 42.47 %\n",
            "\n",
            "Classification Report of K=3 Nearest Neighbours Algorithm:\n",
            "              precision    recall  f1-score   support\n",
            "\n",
            "          No       0.93      0.95      0.94     66704\n",
            "         Yes       0.64      0.58      0.61     10816\n",
            "\n",
            "    accuracy                           0.90     77520\n",
            "   macro avg       0.79      0.76      0.77     77520\n",
            "weighted avg       0.89      0.90      0.89     77520\n",
            "\n"
          ]
        }
      ],
      "source": [
        "trainModel(KNeighborsClassifier(n_neighbors = 3), x_train, y_train, x_test, y_test, \"K=3 Nearest Neighbours\")"
      ]
    },
    {
      "cell_type": "code",
      "execution_count": 336,
      "metadata": {
        "id": "jIPrWyB01Hbk"
      },
      "outputs": [
        {
          "name": "stdout",
          "output_type": "stream",
          "text": [
            "K=5 Nearest Neighbours\n",
            "\n",
            "Confusion Matrix:\n",
            "[[63408  3296]\n",
            " [ 4537  6279]]\n",
            "\n",
            "Accuracy: 89.9 %\n",
            "\n",
            "True Positive Ratio: 58.05 %\n",
            "True Negative Ratio: 95.06 %\n",
            "False Positive Ratio: 4.94 %\n",
            "False Negative Ratio: 41.95 %\n",
            "\n",
            "Classification Report of K=5 Nearest Neighbours Algorithm:\n",
            "              precision    recall  f1-score   support\n",
            "\n",
            "          No       0.93      0.95      0.94     66704\n",
            "         Yes       0.66      0.58      0.62     10816\n",
            "\n",
            "    accuracy                           0.90     77520\n",
            "   macro avg       0.79      0.77      0.78     77520\n",
            "weighted avg       0.89      0.90      0.90     77520\n",
            "\n"
          ]
        }
      ],
      "source": [
        "trainModel(KNeighborsClassifier(n_neighbors = 5), x_train, y_train, x_test, y_test, \"K=5 Nearest Neighbours\")"
      ]
    },
    {
      "cell_type": "code",
      "execution_count": 337,
      "metadata": {
        "id": "V7VLVRon1Irq"
      },
      "outputs": [
        {
          "name": "stdout",
          "output_type": "stream",
          "text": [
            "K=7 Nearest Neighbours\n",
            "\n",
            "Confusion Matrix:\n",
            "[[63703  3001]\n",
            " [ 4654  6162]]\n",
            "\n",
            "Accuracy: 90.13 %\n",
            "\n",
            "True Positive Ratio: 56.97 %\n",
            "True Negative Ratio: 95.5 %\n",
            "False Positive Ratio: 4.5 %\n",
            "False Negative Ratio: 43.03 %\n",
            "\n",
            "Classification Report of K=7 Nearest Neighbours Algorithm:\n",
            "              precision    recall  f1-score   support\n",
            "\n",
            "          No       0.93      0.96      0.94     66704\n",
            "         Yes       0.67      0.57      0.62     10816\n",
            "\n",
            "    accuracy                           0.90     77520\n",
            "   macro avg       0.80      0.76      0.78     77520\n",
            "weighted avg       0.90      0.90      0.90     77520\n",
            "\n"
          ]
        }
      ],
      "source": [
        "trainModel(KNeighborsClassifier(n_neighbors = 7), x_train, y_train, x_test, y_test, \"K=7 Nearest Neighbours\")"
      ]
    },
    {
      "cell_type": "code",
      "execution_count": 338,
      "metadata": {
        "id": "vBRCfJyV1Rqv"
      },
      "outputs": [
        {
          "name": "stdout",
          "output_type": "stream",
          "text": [
            "Support Vector Machine\n",
            "\n",
            "Confusion Matrix:\n",
            "[[64092  2612]\n",
            " [ 4657  6159]]\n",
            "\n",
            "Accuracy: 90.62 %\n",
            "\n",
            "True Positive Ratio: 56.94 %\n",
            "True Negative Ratio: 96.08 %\n",
            "False Positive Ratio: 3.92 %\n",
            "False Negative Ratio: 43.06 %\n",
            "\n",
            "Classification Report of Support Vector Machine Algorithm:\n",
            "              precision    recall  f1-score   support\n",
            "\n",
            "          No       0.93      0.96      0.95     66704\n",
            "         Yes       0.70      0.57      0.63     10816\n",
            "\n",
            "    accuracy                           0.91     77520\n",
            "   macro avg       0.82      0.77      0.79     77520\n",
            "weighted avg       0.90      0.91      0.90     77520\n",
            "\n"
          ]
        }
      ],
      "source": [
        "trainModel(LinearSVC(random_state=0, tol=1e-5), x_train, y_train, x_test, y_test, \"Support Vector Machine\")"
      ]
    },
    {
      "cell_type": "code",
      "execution_count": 339,
      "metadata": {},
      "outputs": [
        {
          "name": "stdout",
          "output_type": "stream",
          "text": [
            "Decision Tree\n",
            "\n",
            "Confusion Matrix:\n",
            "[[64327  2377]\n",
            " [ 4651  6165]]\n",
            "\n",
            "Accuracy: 90.93 %\n",
            "\n",
            "True Positive Ratio: 57.0 %\n",
            "True Negative Ratio: 96.44 %\n",
            "False Positive Ratio: 3.56 %\n",
            "False Negative Ratio: 43.0 %\n",
            "\n",
            "Classification Report of Decision Tree Algorithm:\n",
            "              precision    recall  f1-score   support\n",
            "\n",
            "          No       0.93      0.96      0.95     66704\n",
            "         Yes       0.72      0.57      0.64     10816\n",
            "\n",
            "    accuracy                           0.91     77520\n",
            "   macro avg       0.83      0.77      0.79     77520\n",
            "weighted avg       0.90      0.91      0.90     77520\n",
            "\n"
          ]
        }
      ],
      "source": [
        "trainModel(tree.DecisionTreeClassifier(), x_train, y_train, x_test, y_test, \"Decision Tree\")"
      ]
    },
    {
      "cell_type": "code",
      "execution_count": 340,
      "metadata": {},
      "outputs": [
        {
          "name": "stdout",
          "output_type": "stream",
          "text": [
            "Random Forest\n",
            "\n",
            "Confusion Matrix:\n",
            "[[64232  2472]\n",
            " [ 4421  6395]]\n",
            "\n",
            "Accuracy: 91.11 %\n",
            "\n",
            "True Positive Ratio: 59.13 %\n",
            "True Negative Ratio: 96.29 %\n",
            "False Positive Ratio: 3.71 %\n",
            "False Negative Ratio: 40.87 %\n",
            "\n",
            "Classification Report of Random Forest Algorithm:\n",
            "              precision    recall  f1-score   support\n",
            "\n",
            "          No       0.94      0.96      0.95     66704\n",
            "         Yes       0.72      0.59      0.65     10816\n",
            "\n",
            "    accuracy                           0.91     77520\n",
            "   macro avg       0.83      0.78      0.80     77520\n",
            "weighted avg       0.91      0.91      0.91     77520\n",
            "\n"
          ]
        }
      ],
      "source": [
        "trainModel(RandomForestClassifier(n_estimators=100, random_state=42), x_train, y_train, x_test, y_test, \"Random Forest\")"
      ]
    },
    {
      "cell_type": "code",
      "execution_count": 341,
      "metadata": {},
      "outputs": [
        {
          "data": {
            "text/markdown": [
              "| Algorithm | Accuracy |\n",
              "|---|---|\n",
              "| Random Forest | 91.11% |\n",
              "| Decision Tree | 90.93% |\n",
              "| Support Vector Machine | 90.62% |\n",
              "| K=7 Nearest Neighbours | 90.13% |\n",
              "| Logistic regression | 89.99% |\n",
              "| K=5 Nearest Neighbours | 89.9% |\n",
              "| K=3 Nearest Neighbours | 89.53% |\n",
              "| K=1 Nearest Neighbours | 88.54% |\n",
              "| Naive Bayes | 83.22% |"
            ],
            "text/plain": [
              "<IPython.core.display.Markdown object>"
            ]
          },
          "metadata": {},
          "output_type": "display_data"
        },
        {
          "data": {
            "text/markdown": [
              "| Algorithm | True Positive Ratio |\n",
              "|---|---|\n",
              "| Naive Bayes | 87.61% |\n",
              "| K=1 Nearest Neighbours | 59.46% |\n",
              "| Random Forest | 59.13% |\n",
              "| K=5 Nearest Neighbours | 58.05% |\n",
              "| K=3 Nearest Neighbours | 57.53% |\n",
              "| Logistic regression | 57.49% |\n",
              "| Decision Tree | 57.0% |\n",
              "| K=7 Nearest Neighbours | 56.97% |\n",
              "| Support Vector Machine | 56.94% |"
            ],
            "text/plain": [
              "<IPython.core.display.Markdown object>"
            ]
          },
          "metadata": {},
          "output_type": "display_data"
        },
        {
          "data": {
            "text/markdown": [
              "| Algorithm | True Negative Ratio |\n",
              "|---|---|\n",
              "| Decision Tree | 96.44% |\n",
              "| Random Forest | 96.29% |\n",
              "| Support Vector Machine | 96.08% |\n",
              "| K=7 Nearest Neighbours | 95.5% |\n",
              "| Logistic regression | 95.26% |\n",
              "| K=5 Nearest Neighbours | 95.06% |\n",
              "| K=3 Nearest Neighbours | 94.72% |\n",
              "| K=1 Nearest Neighbours | 93.25% |\n",
              "| Naive Bayes | 82.51% |"
            ],
            "text/plain": [
              "<IPython.core.display.Markdown object>"
            ]
          },
          "metadata": {},
          "output_type": "display_data"
        },
        {
          "data": {
            "text/markdown": [
              "| Algorithm | False Positive Ratio |\n",
              "|---|---|\n",
              "| Decision Tree | 3.56% |\n",
              "| Random Forest | 3.71% |\n",
              "| Support Vector Machine | 3.92% |\n",
              "| K=7 Nearest Neighbours | 4.5% |\n",
              "| Logistic regression | 4.74% |\n",
              "| K=5 Nearest Neighbours | 4.94% |\n",
              "| K=3 Nearest Neighbours | 5.28% |\n",
              "| K=1 Nearest Neighbours | 6.75% |\n",
              "| Naive Bayes | 17.49% |"
            ],
            "text/plain": [
              "<IPython.core.display.Markdown object>"
            ]
          },
          "metadata": {},
          "output_type": "display_data"
        },
        {
          "data": {
            "text/markdown": [
              "| Algorithm | False Negative Ratio |\n",
              "|---|---|\n",
              "| Naive Bayes | 12.39% |\n",
              "| K=1 Nearest Neighbours | 40.54% |\n",
              "| Random Forest | 40.87% |\n",
              "| K=5 Nearest Neighbours | 41.95% |\n",
              "| K=3 Nearest Neighbours | 42.47% |\n",
              "| Logistic regression | 42.51% |\n",
              "| Decision Tree | 43.0% |\n",
              "| K=7 Nearest Neighbours | 43.03% |\n",
              "| Support Vector Machine | 43.06% |"
            ],
            "text/plain": [
              "<IPython.core.display.Markdown object>"
            ]
          },
          "metadata": {},
          "output_type": "display_data"
        }
      ],
      "source": [
        "df_results = pd.DataFrame(results_list)\n",
        "\n",
        "accuracy_table = df_results[['name', 'accuracy']].sort_values(by='accuracy', ascending=False)\n",
        "df_results_sorted_true_positive = df_results.sort_values(by='true_positive_ratio', ascending=False)\n",
        "df_results_sorted_true_negative = df_results.sort_values(by='true_negative_ratio', ascending=False)\n",
        "df_results_sorted_false_positive = df_results.sort_values(by='false_positive_ratio', ascending=True)\n",
        "df_results_sorted_false_negative = df_results.sort_values(by='false_negative_ratio', ascending=True)\n",
        "\n",
        "headers = [\"Algorithm\", \"Accuracy\"]\n",
        "table = f\"| {' | '.join(headers)} |\\n|{'|'.join(['---']*len(headers))}|\\n\"\n",
        "table += '\\n'.join([f\"| {row['name']} | {row['accuracy']}% |\" for _, row in accuracy_table.iterrows()])\n",
        "\n",
        "true_positive_table = f\"| Algorithm | True Positive Ratio |\\n|---|---|\\n\"\n",
        "true_positive_table += '\\n'.join([f\"| {row['name']} | {row['true_positive_ratio']}% |\" for _, row in df_results_sorted_true_positive.iterrows()])\n",
        "\n",
        "true_negative_table = f\"| Algorithm | True Negative Ratio |\\n|---|---|\\n\"\n",
        "true_negative_table += '\\n'.join([f\"| {row['name']} | {row['true_negative_ratio']}% |\" for _, row in df_results_sorted_true_negative.iterrows()])\n",
        "\n",
        "false_positive_table = f\"| Algorithm | False Positive Ratio |\\n|---|---|\\n\"\n",
        "false_positive_table += '\\n'.join([f\"| {row['name']} | {row['false_positive_ratio']}% |\" for _, row in df_results_sorted_false_positive.iterrows()])\n",
        "\n",
        "false_negative_table = f\"| Algorithm | False Negative Ratio |\\n|---|---|\\n\"\n",
        "false_negative_table += '\\n'.join([f\"| {row['name']} | {row['false_negative_ratio']}% |\" for _, row in df_results_sorted_false_negative.iterrows()])\n",
        "\n",
        "display(Markdown(table))\n",
        "display(Markdown(true_positive_table))\n",
        "display(Markdown(true_negative_table))\n",
        "display(Markdown(false_positive_table))\n",
        "display(Markdown(false_negative_table))\n"
      ]
    },
    {
      "cell_type": "code",
      "execution_count": null,
      "metadata": {},
      "outputs": [],
      "source": []
    }
  ],
  "metadata": {
    "colab": {
      "collapsed_sections": [
        "F7Cr83RLErHc"
      ],
      "provenance": []
    },
    "kernelspec": {
      "display_name": "Python 3",
      "name": "python3"
    },
    "language_info": {
      "codemirror_mode": {
        "name": "ipython",
        "version": 3
      },
      "file_extension": ".py",
      "mimetype": "text/x-python",
      "name": "python",
      "nbconvert_exporter": "python",
      "pygments_lexer": "ipython3",
      "version": "3.10.9"
    }
  },
  "nbformat": 4,
  "nbformat_minor": 0
}
